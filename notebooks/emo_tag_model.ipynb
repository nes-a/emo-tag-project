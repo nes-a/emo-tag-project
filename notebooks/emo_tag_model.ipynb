{
  "nbformat": 4,
  "nbformat_minor": 0,
  "metadata": {
    "colab": {
      "provenance": [],
      "gpuType": "T4"
    },
    "kernelspec": {
      "name": "python3",
      "display_name": "Python 3"
    },
    "language_info": {
      "name": "python"
    },
    "accelerator": "GPU",
    "widgets": {
      "application/vnd.jupyter.widget-state+json": {
        "0c10884b09be48348d020e2045f04fab": {
          "model_module": "@jupyter-widgets/controls",
          "model_name": "HBoxModel",
          "model_module_version": "1.5.0",
          "state": {
            "_dom_classes": [],
            "_model_module": "@jupyter-widgets/controls",
            "_model_module_version": "1.5.0",
            "_model_name": "HBoxModel",
            "_view_count": null,
            "_view_module": "@jupyter-widgets/controls",
            "_view_module_version": "1.5.0",
            "_view_name": "HBoxView",
            "box_style": "",
            "children": [
              "IPY_MODEL_def19ea60f4d411cb22bb1404c796cb9",
              "IPY_MODEL_4934e86644424413a92c1faeb1b7ce54",
              "IPY_MODEL_7c47e530d31f47078edefc49e796c849"
            ],
            "layout": "IPY_MODEL_271ee843504846e39748c993ca7956ba"
          }
        },
        "def19ea60f4d411cb22bb1404c796cb9": {
          "model_module": "@jupyter-widgets/controls",
          "model_name": "HTMLModel",
          "model_module_version": "1.5.0",
          "state": {
            "_dom_classes": [],
            "_model_module": "@jupyter-widgets/controls",
            "_model_module_version": "1.5.0",
            "_model_name": "HTMLModel",
            "_view_count": null,
            "_view_module": "@jupyter-widgets/controls",
            "_view_module_version": "1.5.0",
            "_view_name": "HTMLView",
            "description": "",
            "description_tooltip": null,
            "layout": "IPY_MODEL_d2c380e564a045e888772aac942be184",
            "placeholder": "​",
            "style": "IPY_MODEL_cb2eb8b87e184b30bca45ac1ca30d7b6",
            "value": "config.json: 100%"
          }
        },
        "4934e86644424413a92c1faeb1b7ce54": {
          "model_module": "@jupyter-widgets/controls",
          "model_name": "FloatProgressModel",
          "model_module_version": "1.5.0",
          "state": {
            "_dom_classes": [],
            "_model_module": "@jupyter-widgets/controls",
            "_model_module_version": "1.5.0",
            "_model_name": "FloatProgressModel",
            "_view_count": null,
            "_view_module": "@jupyter-widgets/controls",
            "_view_module_version": "1.5.0",
            "_view_name": "ProgressView",
            "bar_style": "success",
            "description": "",
            "description_tooltip": null,
            "layout": "IPY_MODEL_641bc8dd30d5434a9282f516770566c8",
            "max": 570,
            "min": 0,
            "orientation": "horizontal",
            "style": "IPY_MODEL_87e90a356a3d4877b6746f175ef94995",
            "value": 570
          }
        },
        "7c47e530d31f47078edefc49e796c849": {
          "model_module": "@jupyter-widgets/controls",
          "model_name": "HTMLModel",
          "model_module_version": "1.5.0",
          "state": {
            "_dom_classes": [],
            "_model_module": "@jupyter-widgets/controls",
            "_model_module_version": "1.5.0",
            "_model_name": "HTMLModel",
            "_view_count": null,
            "_view_module": "@jupyter-widgets/controls",
            "_view_module_version": "1.5.0",
            "_view_name": "HTMLView",
            "description": "",
            "description_tooltip": null,
            "layout": "IPY_MODEL_be6287785845497e8c1ead00f84c9724",
            "placeholder": "​",
            "style": "IPY_MODEL_de5108c5489a472da2c325acd8fb6e4c",
            "value": " 570/570 [00:00&lt;00:00, 39.2kB/s]"
          }
        },
        "271ee843504846e39748c993ca7956ba": {
          "model_module": "@jupyter-widgets/base",
          "model_name": "LayoutModel",
          "model_module_version": "1.2.0",
          "state": {
            "_model_module": "@jupyter-widgets/base",
            "_model_module_version": "1.2.0",
            "_model_name": "LayoutModel",
            "_view_count": null,
            "_view_module": "@jupyter-widgets/base",
            "_view_module_version": "1.2.0",
            "_view_name": "LayoutView",
            "align_content": null,
            "align_items": null,
            "align_self": null,
            "border": null,
            "bottom": null,
            "display": null,
            "flex": null,
            "flex_flow": null,
            "grid_area": null,
            "grid_auto_columns": null,
            "grid_auto_flow": null,
            "grid_auto_rows": null,
            "grid_column": null,
            "grid_gap": null,
            "grid_row": null,
            "grid_template_areas": null,
            "grid_template_columns": null,
            "grid_template_rows": null,
            "height": null,
            "justify_content": null,
            "justify_items": null,
            "left": null,
            "margin": null,
            "max_height": null,
            "max_width": null,
            "min_height": null,
            "min_width": null,
            "object_fit": null,
            "object_position": null,
            "order": null,
            "overflow": null,
            "overflow_x": null,
            "overflow_y": null,
            "padding": null,
            "right": null,
            "top": null,
            "visibility": null,
            "width": null
          }
        },
        "d2c380e564a045e888772aac942be184": {
          "model_module": "@jupyter-widgets/base",
          "model_name": "LayoutModel",
          "model_module_version": "1.2.0",
          "state": {
            "_model_module": "@jupyter-widgets/base",
            "_model_module_version": "1.2.0",
            "_model_name": "LayoutModel",
            "_view_count": null,
            "_view_module": "@jupyter-widgets/base",
            "_view_module_version": "1.2.0",
            "_view_name": "LayoutView",
            "align_content": null,
            "align_items": null,
            "align_self": null,
            "border": null,
            "bottom": null,
            "display": null,
            "flex": null,
            "flex_flow": null,
            "grid_area": null,
            "grid_auto_columns": null,
            "grid_auto_flow": null,
            "grid_auto_rows": null,
            "grid_column": null,
            "grid_gap": null,
            "grid_row": null,
            "grid_template_areas": null,
            "grid_template_columns": null,
            "grid_template_rows": null,
            "height": null,
            "justify_content": null,
            "justify_items": null,
            "left": null,
            "margin": null,
            "max_height": null,
            "max_width": null,
            "min_height": null,
            "min_width": null,
            "object_fit": null,
            "object_position": null,
            "order": null,
            "overflow": null,
            "overflow_x": null,
            "overflow_y": null,
            "padding": null,
            "right": null,
            "top": null,
            "visibility": null,
            "width": null
          }
        },
        "cb2eb8b87e184b30bca45ac1ca30d7b6": {
          "model_module": "@jupyter-widgets/controls",
          "model_name": "DescriptionStyleModel",
          "model_module_version": "1.5.0",
          "state": {
            "_model_module": "@jupyter-widgets/controls",
            "_model_module_version": "1.5.0",
            "_model_name": "DescriptionStyleModel",
            "_view_count": null,
            "_view_module": "@jupyter-widgets/base",
            "_view_module_version": "1.2.0",
            "_view_name": "StyleView",
            "description_width": ""
          }
        },
        "641bc8dd30d5434a9282f516770566c8": {
          "model_module": "@jupyter-widgets/base",
          "model_name": "LayoutModel",
          "model_module_version": "1.2.0",
          "state": {
            "_model_module": "@jupyter-widgets/base",
            "_model_module_version": "1.2.0",
            "_model_name": "LayoutModel",
            "_view_count": null,
            "_view_module": "@jupyter-widgets/base",
            "_view_module_version": "1.2.0",
            "_view_name": "LayoutView",
            "align_content": null,
            "align_items": null,
            "align_self": null,
            "border": null,
            "bottom": null,
            "display": null,
            "flex": null,
            "flex_flow": null,
            "grid_area": null,
            "grid_auto_columns": null,
            "grid_auto_flow": null,
            "grid_auto_rows": null,
            "grid_column": null,
            "grid_gap": null,
            "grid_row": null,
            "grid_template_areas": null,
            "grid_template_columns": null,
            "grid_template_rows": null,
            "height": null,
            "justify_content": null,
            "justify_items": null,
            "left": null,
            "margin": null,
            "max_height": null,
            "max_width": null,
            "min_height": null,
            "min_width": null,
            "object_fit": null,
            "object_position": null,
            "order": null,
            "overflow": null,
            "overflow_x": null,
            "overflow_y": null,
            "padding": null,
            "right": null,
            "top": null,
            "visibility": null,
            "width": null
          }
        },
        "87e90a356a3d4877b6746f175ef94995": {
          "model_module": "@jupyter-widgets/controls",
          "model_name": "ProgressStyleModel",
          "model_module_version": "1.5.0",
          "state": {
            "_model_module": "@jupyter-widgets/controls",
            "_model_module_version": "1.5.0",
            "_model_name": "ProgressStyleModel",
            "_view_count": null,
            "_view_module": "@jupyter-widgets/base",
            "_view_module_version": "1.2.0",
            "_view_name": "StyleView",
            "bar_color": null,
            "description_width": ""
          }
        },
        "be6287785845497e8c1ead00f84c9724": {
          "model_module": "@jupyter-widgets/base",
          "model_name": "LayoutModel",
          "model_module_version": "1.2.0",
          "state": {
            "_model_module": "@jupyter-widgets/base",
            "_model_module_version": "1.2.0",
            "_model_name": "LayoutModel",
            "_view_count": null,
            "_view_module": "@jupyter-widgets/base",
            "_view_module_version": "1.2.0",
            "_view_name": "LayoutView",
            "align_content": null,
            "align_items": null,
            "align_self": null,
            "border": null,
            "bottom": null,
            "display": null,
            "flex": null,
            "flex_flow": null,
            "grid_area": null,
            "grid_auto_columns": null,
            "grid_auto_flow": null,
            "grid_auto_rows": null,
            "grid_column": null,
            "grid_gap": null,
            "grid_row": null,
            "grid_template_areas": null,
            "grid_template_columns": null,
            "grid_template_rows": null,
            "height": null,
            "justify_content": null,
            "justify_items": null,
            "left": null,
            "margin": null,
            "max_height": null,
            "max_width": null,
            "min_height": null,
            "min_width": null,
            "object_fit": null,
            "object_position": null,
            "order": null,
            "overflow": null,
            "overflow_x": null,
            "overflow_y": null,
            "padding": null,
            "right": null,
            "top": null,
            "visibility": null,
            "width": null
          }
        },
        "de5108c5489a472da2c325acd8fb6e4c": {
          "model_module": "@jupyter-widgets/controls",
          "model_name": "DescriptionStyleModel",
          "model_module_version": "1.5.0",
          "state": {
            "_model_module": "@jupyter-widgets/controls",
            "_model_module_version": "1.5.0",
            "_model_name": "DescriptionStyleModel",
            "_view_count": null,
            "_view_module": "@jupyter-widgets/base",
            "_view_module_version": "1.2.0",
            "_view_name": "StyleView",
            "description_width": ""
          }
        },
        "649315ad521b4694b79216fb55b41ef4": {
          "model_module": "@jupyter-widgets/controls",
          "model_name": "HBoxModel",
          "model_module_version": "1.5.0",
          "state": {
            "_dom_classes": [],
            "_model_module": "@jupyter-widgets/controls",
            "_model_module_version": "1.5.0",
            "_model_name": "HBoxModel",
            "_view_count": null,
            "_view_module": "@jupyter-widgets/controls",
            "_view_module_version": "1.5.0",
            "_view_name": "HBoxView",
            "box_style": "",
            "children": [
              "IPY_MODEL_c721b9927461497ea1140b8aa1487070",
              "IPY_MODEL_3a1b5f001d4344278f2b027d26b5ff98",
              "IPY_MODEL_68f8e40c214c4c44bcb7e760f01c1dcf"
            ],
            "layout": "IPY_MODEL_945d1dbf051f4bf0bf77401f4ac1e4a4"
          }
        },
        "c721b9927461497ea1140b8aa1487070": {
          "model_module": "@jupyter-widgets/controls",
          "model_name": "HTMLModel",
          "model_module_version": "1.5.0",
          "state": {
            "_dom_classes": [],
            "_model_module": "@jupyter-widgets/controls",
            "_model_module_version": "1.5.0",
            "_model_name": "HTMLModel",
            "_view_count": null,
            "_view_module": "@jupyter-widgets/controls",
            "_view_module_version": "1.5.0",
            "_view_name": "HTMLView",
            "description": "",
            "description_tooltip": null,
            "layout": "IPY_MODEL_445fe872ecf84282bc96f4a1946eb90b",
            "placeholder": "​",
            "style": "IPY_MODEL_2d51f6411b244091bb898f8567c3996a",
            "value": "model.safetensors: 100%"
          }
        },
        "3a1b5f001d4344278f2b027d26b5ff98": {
          "model_module": "@jupyter-widgets/controls",
          "model_name": "FloatProgressModel",
          "model_module_version": "1.5.0",
          "state": {
            "_dom_classes": [],
            "_model_module": "@jupyter-widgets/controls",
            "_model_module_version": "1.5.0",
            "_model_name": "FloatProgressModel",
            "_view_count": null,
            "_view_module": "@jupyter-widgets/controls",
            "_view_module_version": "1.5.0",
            "_view_name": "ProgressView",
            "bar_style": "success",
            "description": "",
            "description_tooltip": null,
            "layout": "IPY_MODEL_e4670c164bba4c4a91169969248294db",
            "max": 440449768,
            "min": 0,
            "orientation": "horizontal",
            "style": "IPY_MODEL_296dfbab8ec1452b8c434c04394de664",
            "value": 440449768
          }
        },
        "68f8e40c214c4c44bcb7e760f01c1dcf": {
          "model_module": "@jupyter-widgets/controls",
          "model_name": "HTMLModel",
          "model_module_version": "1.5.0",
          "state": {
            "_dom_classes": [],
            "_model_module": "@jupyter-widgets/controls",
            "_model_module_version": "1.5.0",
            "_model_name": "HTMLModel",
            "_view_count": null,
            "_view_module": "@jupyter-widgets/controls",
            "_view_module_version": "1.5.0",
            "_view_name": "HTMLView",
            "description": "",
            "description_tooltip": null,
            "layout": "IPY_MODEL_ed41e89ac7044e8b9a16d3f9484cf771",
            "placeholder": "​",
            "style": "IPY_MODEL_e6423c9c294c4d3aa182f842628f106d",
            "value": " 440M/440M [00:07&lt;00:00, 93.4MB/s]"
          }
        },
        "945d1dbf051f4bf0bf77401f4ac1e4a4": {
          "model_module": "@jupyter-widgets/base",
          "model_name": "LayoutModel",
          "model_module_version": "1.2.0",
          "state": {
            "_model_module": "@jupyter-widgets/base",
            "_model_module_version": "1.2.0",
            "_model_name": "LayoutModel",
            "_view_count": null,
            "_view_module": "@jupyter-widgets/base",
            "_view_module_version": "1.2.0",
            "_view_name": "LayoutView",
            "align_content": null,
            "align_items": null,
            "align_self": null,
            "border": null,
            "bottom": null,
            "display": null,
            "flex": null,
            "flex_flow": null,
            "grid_area": null,
            "grid_auto_columns": null,
            "grid_auto_flow": null,
            "grid_auto_rows": null,
            "grid_column": null,
            "grid_gap": null,
            "grid_row": null,
            "grid_template_areas": null,
            "grid_template_columns": null,
            "grid_template_rows": null,
            "height": null,
            "justify_content": null,
            "justify_items": null,
            "left": null,
            "margin": null,
            "max_height": null,
            "max_width": null,
            "min_height": null,
            "min_width": null,
            "object_fit": null,
            "object_position": null,
            "order": null,
            "overflow": null,
            "overflow_x": null,
            "overflow_y": null,
            "padding": null,
            "right": null,
            "top": null,
            "visibility": null,
            "width": null
          }
        },
        "445fe872ecf84282bc96f4a1946eb90b": {
          "model_module": "@jupyter-widgets/base",
          "model_name": "LayoutModel",
          "model_module_version": "1.2.0",
          "state": {
            "_model_module": "@jupyter-widgets/base",
            "_model_module_version": "1.2.0",
            "_model_name": "LayoutModel",
            "_view_count": null,
            "_view_module": "@jupyter-widgets/base",
            "_view_module_version": "1.2.0",
            "_view_name": "LayoutView",
            "align_content": null,
            "align_items": null,
            "align_self": null,
            "border": null,
            "bottom": null,
            "display": null,
            "flex": null,
            "flex_flow": null,
            "grid_area": null,
            "grid_auto_columns": null,
            "grid_auto_flow": null,
            "grid_auto_rows": null,
            "grid_column": null,
            "grid_gap": null,
            "grid_row": null,
            "grid_template_areas": null,
            "grid_template_columns": null,
            "grid_template_rows": null,
            "height": null,
            "justify_content": null,
            "justify_items": null,
            "left": null,
            "margin": null,
            "max_height": null,
            "max_width": null,
            "min_height": null,
            "min_width": null,
            "object_fit": null,
            "object_position": null,
            "order": null,
            "overflow": null,
            "overflow_x": null,
            "overflow_y": null,
            "padding": null,
            "right": null,
            "top": null,
            "visibility": null,
            "width": null
          }
        },
        "2d51f6411b244091bb898f8567c3996a": {
          "model_module": "@jupyter-widgets/controls",
          "model_name": "DescriptionStyleModel",
          "model_module_version": "1.5.0",
          "state": {
            "_model_module": "@jupyter-widgets/controls",
            "_model_module_version": "1.5.0",
            "_model_name": "DescriptionStyleModel",
            "_view_count": null,
            "_view_module": "@jupyter-widgets/base",
            "_view_module_version": "1.2.0",
            "_view_name": "StyleView",
            "description_width": ""
          }
        },
        "e4670c164bba4c4a91169969248294db": {
          "model_module": "@jupyter-widgets/base",
          "model_name": "LayoutModel",
          "model_module_version": "1.2.0",
          "state": {
            "_model_module": "@jupyter-widgets/base",
            "_model_module_version": "1.2.0",
            "_model_name": "LayoutModel",
            "_view_count": null,
            "_view_module": "@jupyter-widgets/base",
            "_view_module_version": "1.2.0",
            "_view_name": "LayoutView",
            "align_content": null,
            "align_items": null,
            "align_self": null,
            "border": null,
            "bottom": null,
            "display": null,
            "flex": null,
            "flex_flow": null,
            "grid_area": null,
            "grid_auto_columns": null,
            "grid_auto_flow": null,
            "grid_auto_rows": null,
            "grid_column": null,
            "grid_gap": null,
            "grid_row": null,
            "grid_template_areas": null,
            "grid_template_columns": null,
            "grid_template_rows": null,
            "height": null,
            "justify_content": null,
            "justify_items": null,
            "left": null,
            "margin": null,
            "max_height": null,
            "max_width": null,
            "min_height": null,
            "min_width": null,
            "object_fit": null,
            "object_position": null,
            "order": null,
            "overflow": null,
            "overflow_x": null,
            "overflow_y": null,
            "padding": null,
            "right": null,
            "top": null,
            "visibility": null,
            "width": null
          }
        },
        "296dfbab8ec1452b8c434c04394de664": {
          "model_module": "@jupyter-widgets/controls",
          "model_name": "ProgressStyleModel",
          "model_module_version": "1.5.0",
          "state": {
            "_model_module": "@jupyter-widgets/controls",
            "_model_module_version": "1.5.0",
            "_model_name": "ProgressStyleModel",
            "_view_count": null,
            "_view_module": "@jupyter-widgets/base",
            "_view_module_version": "1.2.0",
            "_view_name": "StyleView",
            "bar_color": null,
            "description_width": ""
          }
        },
        "ed41e89ac7044e8b9a16d3f9484cf771": {
          "model_module": "@jupyter-widgets/base",
          "model_name": "LayoutModel",
          "model_module_version": "1.2.0",
          "state": {
            "_model_module": "@jupyter-widgets/base",
            "_model_module_version": "1.2.0",
            "_model_name": "LayoutModel",
            "_view_count": null,
            "_view_module": "@jupyter-widgets/base",
            "_view_module_version": "1.2.0",
            "_view_name": "LayoutView",
            "align_content": null,
            "align_items": null,
            "align_self": null,
            "border": null,
            "bottom": null,
            "display": null,
            "flex": null,
            "flex_flow": null,
            "grid_area": null,
            "grid_auto_columns": null,
            "grid_auto_flow": null,
            "grid_auto_rows": null,
            "grid_column": null,
            "grid_gap": null,
            "grid_row": null,
            "grid_template_areas": null,
            "grid_template_columns": null,
            "grid_template_rows": null,
            "height": null,
            "justify_content": null,
            "justify_items": null,
            "left": null,
            "margin": null,
            "max_height": null,
            "max_width": null,
            "min_height": null,
            "min_width": null,
            "object_fit": null,
            "object_position": null,
            "order": null,
            "overflow": null,
            "overflow_x": null,
            "overflow_y": null,
            "padding": null,
            "right": null,
            "top": null,
            "visibility": null,
            "width": null
          }
        },
        "e6423c9c294c4d3aa182f842628f106d": {
          "model_module": "@jupyter-widgets/controls",
          "model_name": "DescriptionStyleModel",
          "model_module_version": "1.5.0",
          "state": {
            "_model_module": "@jupyter-widgets/controls",
            "_model_module_version": "1.5.0",
            "_model_name": "DescriptionStyleModel",
            "_view_count": null,
            "_view_module": "@jupyter-widgets/base",
            "_view_module_version": "1.2.0",
            "_view_name": "StyleView",
            "description_width": ""
          }
        },
        "74c8c51ed77b4c148e37c022df7a1f9b": {
          "model_module": "@jupyter-widgets/controls",
          "model_name": "HBoxModel",
          "model_module_version": "1.5.0",
          "state": {
            "_dom_classes": [],
            "_model_module": "@jupyter-widgets/controls",
            "_model_module_version": "1.5.0",
            "_model_name": "HBoxModel",
            "_view_count": null,
            "_view_module": "@jupyter-widgets/controls",
            "_view_module_version": "1.5.0",
            "_view_name": "HBoxView",
            "box_style": "",
            "children": [
              "IPY_MODEL_701f8c99070946d78c813119ce64eafa",
              "IPY_MODEL_c4d8e1331bed47519fa4a34ed8b3cb3b",
              "IPY_MODEL_c03cddda89d848c0ad90a9ab20fc7a98"
            ],
            "layout": "IPY_MODEL_14cb3dc5e903429a93ea8f3c128bb80b"
          }
        },
        "701f8c99070946d78c813119ce64eafa": {
          "model_module": "@jupyter-widgets/controls",
          "model_name": "HTMLModel",
          "model_module_version": "1.5.0",
          "state": {
            "_dom_classes": [],
            "_model_module": "@jupyter-widgets/controls",
            "_model_module_version": "1.5.0",
            "_model_name": "HTMLModel",
            "_view_count": null,
            "_view_module": "@jupyter-widgets/controls",
            "_view_module_version": "1.5.0",
            "_view_name": "HTMLView",
            "description": "",
            "description_tooltip": null,
            "layout": "IPY_MODEL_791cac2a3cd041fdb87ec634efbd052a",
            "placeholder": "​",
            "style": "IPY_MODEL_a7f67f4b2e4e4f76ac36c863d756ea14",
            "value": "tokenizer_config.json: 100%"
          }
        },
        "c4d8e1331bed47519fa4a34ed8b3cb3b": {
          "model_module": "@jupyter-widgets/controls",
          "model_name": "FloatProgressModel",
          "model_module_version": "1.5.0",
          "state": {
            "_dom_classes": [],
            "_model_module": "@jupyter-widgets/controls",
            "_model_module_version": "1.5.0",
            "_model_name": "FloatProgressModel",
            "_view_count": null,
            "_view_module": "@jupyter-widgets/controls",
            "_view_module_version": "1.5.0",
            "_view_name": "ProgressView",
            "bar_style": "success",
            "description": "",
            "description_tooltip": null,
            "layout": "IPY_MODEL_ccaae0cfc6cc4999bff81ecddf2ced82",
            "max": 48,
            "min": 0,
            "orientation": "horizontal",
            "style": "IPY_MODEL_1d20d23fa74b4703992cb3c68953a4c3",
            "value": 48
          }
        },
        "c03cddda89d848c0ad90a9ab20fc7a98": {
          "model_module": "@jupyter-widgets/controls",
          "model_name": "HTMLModel",
          "model_module_version": "1.5.0",
          "state": {
            "_dom_classes": [],
            "_model_module": "@jupyter-widgets/controls",
            "_model_module_version": "1.5.0",
            "_model_name": "HTMLModel",
            "_view_count": null,
            "_view_module": "@jupyter-widgets/controls",
            "_view_module_version": "1.5.0",
            "_view_name": "HTMLView",
            "description": "",
            "description_tooltip": null,
            "layout": "IPY_MODEL_a925b6d0f45e4c2fa501974de3cc35cb",
            "placeholder": "​",
            "style": "IPY_MODEL_8194df282c6547108293d6f72ca737b2",
            "value": " 48.0/48.0 [00:00&lt;00:00, 3.13kB/s]"
          }
        },
        "14cb3dc5e903429a93ea8f3c128bb80b": {
          "model_module": "@jupyter-widgets/base",
          "model_name": "LayoutModel",
          "model_module_version": "1.2.0",
          "state": {
            "_model_module": "@jupyter-widgets/base",
            "_model_module_version": "1.2.0",
            "_model_name": "LayoutModel",
            "_view_count": null,
            "_view_module": "@jupyter-widgets/base",
            "_view_module_version": "1.2.0",
            "_view_name": "LayoutView",
            "align_content": null,
            "align_items": null,
            "align_self": null,
            "border": null,
            "bottom": null,
            "display": null,
            "flex": null,
            "flex_flow": null,
            "grid_area": null,
            "grid_auto_columns": null,
            "grid_auto_flow": null,
            "grid_auto_rows": null,
            "grid_column": null,
            "grid_gap": null,
            "grid_row": null,
            "grid_template_areas": null,
            "grid_template_columns": null,
            "grid_template_rows": null,
            "height": null,
            "justify_content": null,
            "justify_items": null,
            "left": null,
            "margin": null,
            "max_height": null,
            "max_width": null,
            "min_height": null,
            "min_width": null,
            "object_fit": null,
            "object_position": null,
            "order": null,
            "overflow": null,
            "overflow_x": null,
            "overflow_y": null,
            "padding": null,
            "right": null,
            "top": null,
            "visibility": null,
            "width": null
          }
        },
        "791cac2a3cd041fdb87ec634efbd052a": {
          "model_module": "@jupyter-widgets/base",
          "model_name": "LayoutModel",
          "model_module_version": "1.2.0",
          "state": {
            "_model_module": "@jupyter-widgets/base",
            "_model_module_version": "1.2.0",
            "_model_name": "LayoutModel",
            "_view_count": null,
            "_view_module": "@jupyter-widgets/base",
            "_view_module_version": "1.2.0",
            "_view_name": "LayoutView",
            "align_content": null,
            "align_items": null,
            "align_self": null,
            "border": null,
            "bottom": null,
            "display": null,
            "flex": null,
            "flex_flow": null,
            "grid_area": null,
            "grid_auto_columns": null,
            "grid_auto_flow": null,
            "grid_auto_rows": null,
            "grid_column": null,
            "grid_gap": null,
            "grid_row": null,
            "grid_template_areas": null,
            "grid_template_columns": null,
            "grid_template_rows": null,
            "height": null,
            "justify_content": null,
            "justify_items": null,
            "left": null,
            "margin": null,
            "max_height": null,
            "max_width": null,
            "min_height": null,
            "min_width": null,
            "object_fit": null,
            "object_position": null,
            "order": null,
            "overflow": null,
            "overflow_x": null,
            "overflow_y": null,
            "padding": null,
            "right": null,
            "top": null,
            "visibility": null,
            "width": null
          }
        },
        "a7f67f4b2e4e4f76ac36c863d756ea14": {
          "model_module": "@jupyter-widgets/controls",
          "model_name": "DescriptionStyleModel",
          "model_module_version": "1.5.0",
          "state": {
            "_model_module": "@jupyter-widgets/controls",
            "_model_module_version": "1.5.0",
            "_model_name": "DescriptionStyleModel",
            "_view_count": null,
            "_view_module": "@jupyter-widgets/base",
            "_view_module_version": "1.2.0",
            "_view_name": "StyleView",
            "description_width": ""
          }
        },
        "ccaae0cfc6cc4999bff81ecddf2ced82": {
          "model_module": "@jupyter-widgets/base",
          "model_name": "LayoutModel",
          "model_module_version": "1.2.0",
          "state": {
            "_model_module": "@jupyter-widgets/base",
            "_model_module_version": "1.2.0",
            "_model_name": "LayoutModel",
            "_view_count": null,
            "_view_module": "@jupyter-widgets/base",
            "_view_module_version": "1.2.0",
            "_view_name": "LayoutView",
            "align_content": null,
            "align_items": null,
            "align_self": null,
            "border": null,
            "bottom": null,
            "display": null,
            "flex": null,
            "flex_flow": null,
            "grid_area": null,
            "grid_auto_columns": null,
            "grid_auto_flow": null,
            "grid_auto_rows": null,
            "grid_column": null,
            "grid_gap": null,
            "grid_row": null,
            "grid_template_areas": null,
            "grid_template_columns": null,
            "grid_template_rows": null,
            "height": null,
            "justify_content": null,
            "justify_items": null,
            "left": null,
            "margin": null,
            "max_height": null,
            "max_width": null,
            "min_height": null,
            "min_width": null,
            "object_fit": null,
            "object_position": null,
            "order": null,
            "overflow": null,
            "overflow_x": null,
            "overflow_y": null,
            "padding": null,
            "right": null,
            "top": null,
            "visibility": null,
            "width": null
          }
        },
        "1d20d23fa74b4703992cb3c68953a4c3": {
          "model_module": "@jupyter-widgets/controls",
          "model_name": "ProgressStyleModel",
          "model_module_version": "1.5.0",
          "state": {
            "_model_module": "@jupyter-widgets/controls",
            "_model_module_version": "1.5.0",
            "_model_name": "ProgressStyleModel",
            "_view_count": null,
            "_view_module": "@jupyter-widgets/base",
            "_view_module_version": "1.2.0",
            "_view_name": "StyleView",
            "bar_color": null,
            "description_width": ""
          }
        },
        "a925b6d0f45e4c2fa501974de3cc35cb": {
          "model_module": "@jupyter-widgets/base",
          "model_name": "LayoutModel",
          "model_module_version": "1.2.0",
          "state": {
            "_model_module": "@jupyter-widgets/base",
            "_model_module_version": "1.2.0",
            "_model_name": "LayoutModel",
            "_view_count": null,
            "_view_module": "@jupyter-widgets/base",
            "_view_module_version": "1.2.0",
            "_view_name": "LayoutView",
            "align_content": null,
            "align_items": null,
            "align_self": null,
            "border": null,
            "bottom": null,
            "display": null,
            "flex": null,
            "flex_flow": null,
            "grid_area": null,
            "grid_auto_columns": null,
            "grid_auto_flow": null,
            "grid_auto_rows": null,
            "grid_column": null,
            "grid_gap": null,
            "grid_row": null,
            "grid_template_areas": null,
            "grid_template_columns": null,
            "grid_template_rows": null,
            "height": null,
            "justify_content": null,
            "justify_items": null,
            "left": null,
            "margin": null,
            "max_height": null,
            "max_width": null,
            "min_height": null,
            "min_width": null,
            "object_fit": null,
            "object_position": null,
            "order": null,
            "overflow": null,
            "overflow_x": null,
            "overflow_y": null,
            "padding": null,
            "right": null,
            "top": null,
            "visibility": null,
            "width": null
          }
        },
        "8194df282c6547108293d6f72ca737b2": {
          "model_module": "@jupyter-widgets/controls",
          "model_name": "DescriptionStyleModel",
          "model_module_version": "1.5.0",
          "state": {
            "_model_module": "@jupyter-widgets/controls",
            "_model_module_version": "1.5.0",
            "_model_name": "DescriptionStyleModel",
            "_view_count": null,
            "_view_module": "@jupyter-widgets/base",
            "_view_module_version": "1.2.0",
            "_view_name": "StyleView",
            "description_width": ""
          }
        },
        "cc9328641ef044ce8a19bf671bd2fbbf": {
          "model_module": "@jupyter-widgets/controls",
          "model_name": "HBoxModel",
          "model_module_version": "1.5.0",
          "state": {
            "_dom_classes": [],
            "_model_module": "@jupyter-widgets/controls",
            "_model_module_version": "1.5.0",
            "_model_name": "HBoxModel",
            "_view_count": null,
            "_view_module": "@jupyter-widgets/controls",
            "_view_module_version": "1.5.0",
            "_view_name": "HBoxView",
            "box_style": "",
            "children": [
              "IPY_MODEL_a36acdfcfcd242a598d42e2ed215ac83",
              "IPY_MODEL_a2f9c4dec6d64b56844fa583531d0834",
              "IPY_MODEL_019a0b9b004b41f189ae8234915d2f6a"
            ],
            "layout": "IPY_MODEL_5dcc01e8759b49a990efe8121c4adc22"
          }
        },
        "a36acdfcfcd242a598d42e2ed215ac83": {
          "model_module": "@jupyter-widgets/controls",
          "model_name": "HTMLModel",
          "model_module_version": "1.5.0",
          "state": {
            "_dom_classes": [],
            "_model_module": "@jupyter-widgets/controls",
            "_model_module_version": "1.5.0",
            "_model_name": "HTMLModel",
            "_view_count": null,
            "_view_module": "@jupyter-widgets/controls",
            "_view_module_version": "1.5.0",
            "_view_name": "HTMLView",
            "description": "",
            "description_tooltip": null,
            "layout": "IPY_MODEL_508ec361fcb343c4b390aafab067311f",
            "placeholder": "​",
            "style": "IPY_MODEL_0b57fc47675a47eca09ac1380e1e0cf3",
            "value": "vocab.txt: 100%"
          }
        },
        "a2f9c4dec6d64b56844fa583531d0834": {
          "model_module": "@jupyter-widgets/controls",
          "model_name": "FloatProgressModel",
          "model_module_version": "1.5.0",
          "state": {
            "_dom_classes": [],
            "_model_module": "@jupyter-widgets/controls",
            "_model_module_version": "1.5.0",
            "_model_name": "FloatProgressModel",
            "_view_count": null,
            "_view_module": "@jupyter-widgets/controls",
            "_view_module_version": "1.5.0",
            "_view_name": "ProgressView",
            "bar_style": "success",
            "description": "",
            "description_tooltip": null,
            "layout": "IPY_MODEL_9ea1762a194d4695ae8597a4392785bc",
            "max": 231508,
            "min": 0,
            "orientation": "horizontal",
            "style": "IPY_MODEL_0d88ecd883fb48c4ba8dfe272aeb0c44",
            "value": 231508
          }
        },
        "019a0b9b004b41f189ae8234915d2f6a": {
          "model_module": "@jupyter-widgets/controls",
          "model_name": "HTMLModel",
          "model_module_version": "1.5.0",
          "state": {
            "_dom_classes": [],
            "_model_module": "@jupyter-widgets/controls",
            "_model_module_version": "1.5.0",
            "_model_name": "HTMLModel",
            "_view_count": null,
            "_view_module": "@jupyter-widgets/controls",
            "_view_module_version": "1.5.0",
            "_view_name": "HTMLView",
            "description": "",
            "description_tooltip": null,
            "layout": "IPY_MODEL_e6e25167c2844e978e46079a8bb6a0b3",
            "placeholder": "​",
            "style": "IPY_MODEL_8938da0a66cc4e06a1f29d689ef5a3b3",
            "value": " 232k/232k [00:00&lt;00:00, 12.7MB/s]"
          }
        },
        "5dcc01e8759b49a990efe8121c4adc22": {
          "model_module": "@jupyter-widgets/base",
          "model_name": "LayoutModel",
          "model_module_version": "1.2.0",
          "state": {
            "_model_module": "@jupyter-widgets/base",
            "_model_module_version": "1.2.0",
            "_model_name": "LayoutModel",
            "_view_count": null,
            "_view_module": "@jupyter-widgets/base",
            "_view_module_version": "1.2.0",
            "_view_name": "LayoutView",
            "align_content": null,
            "align_items": null,
            "align_self": null,
            "border": null,
            "bottom": null,
            "display": null,
            "flex": null,
            "flex_flow": null,
            "grid_area": null,
            "grid_auto_columns": null,
            "grid_auto_flow": null,
            "grid_auto_rows": null,
            "grid_column": null,
            "grid_gap": null,
            "grid_row": null,
            "grid_template_areas": null,
            "grid_template_columns": null,
            "grid_template_rows": null,
            "height": null,
            "justify_content": null,
            "justify_items": null,
            "left": null,
            "margin": null,
            "max_height": null,
            "max_width": null,
            "min_height": null,
            "min_width": null,
            "object_fit": null,
            "object_position": null,
            "order": null,
            "overflow": null,
            "overflow_x": null,
            "overflow_y": null,
            "padding": null,
            "right": null,
            "top": null,
            "visibility": null,
            "width": null
          }
        },
        "508ec361fcb343c4b390aafab067311f": {
          "model_module": "@jupyter-widgets/base",
          "model_name": "LayoutModel",
          "model_module_version": "1.2.0",
          "state": {
            "_model_module": "@jupyter-widgets/base",
            "_model_module_version": "1.2.0",
            "_model_name": "LayoutModel",
            "_view_count": null,
            "_view_module": "@jupyter-widgets/base",
            "_view_module_version": "1.2.0",
            "_view_name": "LayoutView",
            "align_content": null,
            "align_items": null,
            "align_self": null,
            "border": null,
            "bottom": null,
            "display": null,
            "flex": null,
            "flex_flow": null,
            "grid_area": null,
            "grid_auto_columns": null,
            "grid_auto_flow": null,
            "grid_auto_rows": null,
            "grid_column": null,
            "grid_gap": null,
            "grid_row": null,
            "grid_template_areas": null,
            "grid_template_columns": null,
            "grid_template_rows": null,
            "height": null,
            "justify_content": null,
            "justify_items": null,
            "left": null,
            "margin": null,
            "max_height": null,
            "max_width": null,
            "min_height": null,
            "min_width": null,
            "object_fit": null,
            "object_position": null,
            "order": null,
            "overflow": null,
            "overflow_x": null,
            "overflow_y": null,
            "padding": null,
            "right": null,
            "top": null,
            "visibility": null,
            "width": null
          }
        },
        "0b57fc47675a47eca09ac1380e1e0cf3": {
          "model_module": "@jupyter-widgets/controls",
          "model_name": "DescriptionStyleModel",
          "model_module_version": "1.5.0",
          "state": {
            "_model_module": "@jupyter-widgets/controls",
            "_model_module_version": "1.5.0",
            "_model_name": "DescriptionStyleModel",
            "_view_count": null,
            "_view_module": "@jupyter-widgets/base",
            "_view_module_version": "1.2.0",
            "_view_name": "StyleView",
            "description_width": ""
          }
        },
        "9ea1762a194d4695ae8597a4392785bc": {
          "model_module": "@jupyter-widgets/base",
          "model_name": "LayoutModel",
          "model_module_version": "1.2.0",
          "state": {
            "_model_module": "@jupyter-widgets/base",
            "_model_module_version": "1.2.0",
            "_model_name": "LayoutModel",
            "_view_count": null,
            "_view_module": "@jupyter-widgets/base",
            "_view_module_version": "1.2.0",
            "_view_name": "LayoutView",
            "align_content": null,
            "align_items": null,
            "align_self": null,
            "border": null,
            "bottom": null,
            "display": null,
            "flex": null,
            "flex_flow": null,
            "grid_area": null,
            "grid_auto_columns": null,
            "grid_auto_flow": null,
            "grid_auto_rows": null,
            "grid_column": null,
            "grid_gap": null,
            "grid_row": null,
            "grid_template_areas": null,
            "grid_template_columns": null,
            "grid_template_rows": null,
            "height": null,
            "justify_content": null,
            "justify_items": null,
            "left": null,
            "margin": null,
            "max_height": null,
            "max_width": null,
            "min_height": null,
            "min_width": null,
            "object_fit": null,
            "object_position": null,
            "order": null,
            "overflow": null,
            "overflow_x": null,
            "overflow_y": null,
            "padding": null,
            "right": null,
            "top": null,
            "visibility": null,
            "width": null
          }
        },
        "0d88ecd883fb48c4ba8dfe272aeb0c44": {
          "model_module": "@jupyter-widgets/controls",
          "model_name": "ProgressStyleModel",
          "model_module_version": "1.5.0",
          "state": {
            "_model_module": "@jupyter-widgets/controls",
            "_model_module_version": "1.5.0",
            "_model_name": "ProgressStyleModel",
            "_view_count": null,
            "_view_module": "@jupyter-widgets/base",
            "_view_module_version": "1.2.0",
            "_view_name": "StyleView",
            "bar_color": null,
            "description_width": ""
          }
        },
        "e6e25167c2844e978e46079a8bb6a0b3": {
          "model_module": "@jupyter-widgets/base",
          "model_name": "LayoutModel",
          "model_module_version": "1.2.0",
          "state": {
            "_model_module": "@jupyter-widgets/base",
            "_model_module_version": "1.2.0",
            "_model_name": "LayoutModel",
            "_view_count": null,
            "_view_module": "@jupyter-widgets/base",
            "_view_module_version": "1.2.0",
            "_view_name": "LayoutView",
            "align_content": null,
            "align_items": null,
            "align_self": null,
            "border": null,
            "bottom": null,
            "display": null,
            "flex": null,
            "flex_flow": null,
            "grid_area": null,
            "grid_auto_columns": null,
            "grid_auto_flow": null,
            "grid_auto_rows": null,
            "grid_column": null,
            "grid_gap": null,
            "grid_row": null,
            "grid_template_areas": null,
            "grid_template_columns": null,
            "grid_template_rows": null,
            "height": null,
            "justify_content": null,
            "justify_items": null,
            "left": null,
            "margin": null,
            "max_height": null,
            "max_width": null,
            "min_height": null,
            "min_width": null,
            "object_fit": null,
            "object_position": null,
            "order": null,
            "overflow": null,
            "overflow_x": null,
            "overflow_y": null,
            "padding": null,
            "right": null,
            "top": null,
            "visibility": null,
            "width": null
          }
        },
        "8938da0a66cc4e06a1f29d689ef5a3b3": {
          "model_module": "@jupyter-widgets/controls",
          "model_name": "DescriptionStyleModel",
          "model_module_version": "1.5.0",
          "state": {
            "_model_module": "@jupyter-widgets/controls",
            "_model_module_version": "1.5.0",
            "_model_name": "DescriptionStyleModel",
            "_view_count": null,
            "_view_module": "@jupyter-widgets/base",
            "_view_module_version": "1.2.0",
            "_view_name": "StyleView",
            "description_width": ""
          }
        },
        "a58452bd3f4d47a1b8546b041271bc91": {
          "model_module": "@jupyter-widgets/controls",
          "model_name": "HBoxModel",
          "model_module_version": "1.5.0",
          "state": {
            "_dom_classes": [],
            "_model_module": "@jupyter-widgets/controls",
            "_model_module_version": "1.5.0",
            "_model_name": "HBoxModel",
            "_view_count": null,
            "_view_module": "@jupyter-widgets/controls",
            "_view_module_version": "1.5.0",
            "_view_name": "HBoxView",
            "box_style": "",
            "children": [
              "IPY_MODEL_d055a9b842264d1cb7729606377cdeb3",
              "IPY_MODEL_88eb531082ec4ff6907b98ae331c5154",
              "IPY_MODEL_dce94264607d4fc6b5da9bd77a7ba707"
            ],
            "layout": "IPY_MODEL_856f9221435148ae9533a049da7c1e8e"
          }
        },
        "d055a9b842264d1cb7729606377cdeb3": {
          "model_module": "@jupyter-widgets/controls",
          "model_name": "HTMLModel",
          "model_module_version": "1.5.0",
          "state": {
            "_dom_classes": [],
            "_model_module": "@jupyter-widgets/controls",
            "_model_module_version": "1.5.0",
            "_model_name": "HTMLModel",
            "_view_count": null,
            "_view_module": "@jupyter-widgets/controls",
            "_view_module_version": "1.5.0",
            "_view_name": "HTMLView",
            "description": "",
            "description_tooltip": null,
            "layout": "IPY_MODEL_cecaad4fe1774e74876af27013cfdf2c",
            "placeholder": "​",
            "style": "IPY_MODEL_b3c6f6f6901f4461b118a0cd57a5dd79",
            "value": "tokenizer.json: 100%"
          }
        },
        "88eb531082ec4ff6907b98ae331c5154": {
          "model_module": "@jupyter-widgets/controls",
          "model_name": "FloatProgressModel",
          "model_module_version": "1.5.0",
          "state": {
            "_dom_classes": [],
            "_model_module": "@jupyter-widgets/controls",
            "_model_module_version": "1.5.0",
            "_model_name": "FloatProgressModel",
            "_view_count": null,
            "_view_module": "@jupyter-widgets/controls",
            "_view_module_version": "1.5.0",
            "_view_name": "ProgressView",
            "bar_style": "success",
            "description": "",
            "description_tooltip": null,
            "layout": "IPY_MODEL_2e0ed1ee929f44a2a087854e62b68a8e",
            "max": 466062,
            "min": 0,
            "orientation": "horizontal",
            "style": "IPY_MODEL_9343836b7381446bb2c171273c808b0c",
            "value": 466062
          }
        },
        "dce94264607d4fc6b5da9bd77a7ba707": {
          "model_module": "@jupyter-widgets/controls",
          "model_name": "HTMLModel",
          "model_module_version": "1.5.0",
          "state": {
            "_dom_classes": [],
            "_model_module": "@jupyter-widgets/controls",
            "_model_module_version": "1.5.0",
            "_model_name": "HTMLModel",
            "_view_count": null,
            "_view_module": "@jupyter-widgets/controls",
            "_view_module_version": "1.5.0",
            "_view_name": "HTMLView",
            "description": "",
            "description_tooltip": null,
            "layout": "IPY_MODEL_62a6c0070ff44b92a18c8db342b36dfe",
            "placeholder": "​",
            "style": "IPY_MODEL_5512ef6d023c472b908640786e22079c",
            "value": " 466k/466k [00:00&lt;00:00, 2.12MB/s]"
          }
        },
        "856f9221435148ae9533a049da7c1e8e": {
          "model_module": "@jupyter-widgets/base",
          "model_name": "LayoutModel",
          "model_module_version": "1.2.0",
          "state": {
            "_model_module": "@jupyter-widgets/base",
            "_model_module_version": "1.2.0",
            "_model_name": "LayoutModel",
            "_view_count": null,
            "_view_module": "@jupyter-widgets/base",
            "_view_module_version": "1.2.0",
            "_view_name": "LayoutView",
            "align_content": null,
            "align_items": null,
            "align_self": null,
            "border": null,
            "bottom": null,
            "display": null,
            "flex": null,
            "flex_flow": null,
            "grid_area": null,
            "grid_auto_columns": null,
            "grid_auto_flow": null,
            "grid_auto_rows": null,
            "grid_column": null,
            "grid_gap": null,
            "grid_row": null,
            "grid_template_areas": null,
            "grid_template_columns": null,
            "grid_template_rows": null,
            "height": null,
            "justify_content": null,
            "justify_items": null,
            "left": null,
            "margin": null,
            "max_height": null,
            "max_width": null,
            "min_height": null,
            "min_width": null,
            "object_fit": null,
            "object_position": null,
            "order": null,
            "overflow": null,
            "overflow_x": null,
            "overflow_y": null,
            "padding": null,
            "right": null,
            "top": null,
            "visibility": null,
            "width": null
          }
        },
        "cecaad4fe1774e74876af27013cfdf2c": {
          "model_module": "@jupyter-widgets/base",
          "model_name": "LayoutModel",
          "model_module_version": "1.2.0",
          "state": {
            "_model_module": "@jupyter-widgets/base",
            "_model_module_version": "1.2.0",
            "_model_name": "LayoutModel",
            "_view_count": null,
            "_view_module": "@jupyter-widgets/base",
            "_view_module_version": "1.2.0",
            "_view_name": "LayoutView",
            "align_content": null,
            "align_items": null,
            "align_self": null,
            "border": null,
            "bottom": null,
            "display": null,
            "flex": null,
            "flex_flow": null,
            "grid_area": null,
            "grid_auto_columns": null,
            "grid_auto_flow": null,
            "grid_auto_rows": null,
            "grid_column": null,
            "grid_gap": null,
            "grid_row": null,
            "grid_template_areas": null,
            "grid_template_columns": null,
            "grid_template_rows": null,
            "height": null,
            "justify_content": null,
            "justify_items": null,
            "left": null,
            "margin": null,
            "max_height": null,
            "max_width": null,
            "min_height": null,
            "min_width": null,
            "object_fit": null,
            "object_position": null,
            "order": null,
            "overflow": null,
            "overflow_x": null,
            "overflow_y": null,
            "padding": null,
            "right": null,
            "top": null,
            "visibility": null,
            "width": null
          }
        },
        "b3c6f6f6901f4461b118a0cd57a5dd79": {
          "model_module": "@jupyter-widgets/controls",
          "model_name": "DescriptionStyleModel",
          "model_module_version": "1.5.0",
          "state": {
            "_model_module": "@jupyter-widgets/controls",
            "_model_module_version": "1.5.0",
            "_model_name": "DescriptionStyleModel",
            "_view_count": null,
            "_view_module": "@jupyter-widgets/base",
            "_view_module_version": "1.2.0",
            "_view_name": "StyleView",
            "description_width": ""
          }
        },
        "2e0ed1ee929f44a2a087854e62b68a8e": {
          "model_module": "@jupyter-widgets/base",
          "model_name": "LayoutModel",
          "model_module_version": "1.2.0",
          "state": {
            "_model_module": "@jupyter-widgets/base",
            "_model_module_version": "1.2.0",
            "_model_name": "LayoutModel",
            "_view_count": null,
            "_view_module": "@jupyter-widgets/base",
            "_view_module_version": "1.2.0",
            "_view_name": "LayoutView",
            "align_content": null,
            "align_items": null,
            "align_self": null,
            "border": null,
            "bottom": null,
            "display": null,
            "flex": null,
            "flex_flow": null,
            "grid_area": null,
            "grid_auto_columns": null,
            "grid_auto_flow": null,
            "grid_auto_rows": null,
            "grid_column": null,
            "grid_gap": null,
            "grid_row": null,
            "grid_template_areas": null,
            "grid_template_columns": null,
            "grid_template_rows": null,
            "height": null,
            "justify_content": null,
            "justify_items": null,
            "left": null,
            "margin": null,
            "max_height": null,
            "max_width": null,
            "min_height": null,
            "min_width": null,
            "object_fit": null,
            "object_position": null,
            "order": null,
            "overflow": null,
            "overflow_x": null,
            "overflow_y": null,
            "padding": null,
            "right": null,
            "top": null,
            "visibility": null,
            "width": null
          }
        },
        "9343836b7381446bb2c171273c808b0c": {
          "model_module": "@jupyter-widgets/controls",
          "model_name": "ProgressStyleModel",
          "model_module_version": "1.5.0",
          "state": {
            "_model_module": "@jupyter-widgets/controls",
            "_model_module_version": "1.5.0",
            "_model_name": "ProgressStyleModel",
            "_view_count": null,
            "_view_module": "@jupyter-widgets/base",
            "_view_module_version": "1.2.0",
            "_view_name": "StyleView",
            "bar_color": null,
            "description_width": ""
          }
        },
        "62a6c0070ff44b92a18c8db342b36dfe": {
          "model_module": "@jupyter-widgets/base",
          "model_name": "LayoutModel",
          "model_module_version": "1.2.0",
          "state": {
            "_model_module": "@jupyter-widgets/base",
            "_model_module_version": "1.2.0",
            "_model_name": "LayoutModel",
            "_view_count": null,
            "_view_module": "@jupyter-widgets/base",
            "_view_module_version": "1.2.0",
            "_view_name": "LayoutView",
            "align_content": null,
            "align_items": null,
            "align_self": null,
            "border": null,
            "bottom": null,
            "display": null,
            "flex": null,
            "flex_flow": null,
            "grid_area": null,
            "grid_auto_columns": null,
            "grid_auto_flow": null,
            "grid_auto_rows": null,
            "grid_column": null,
            "grid_gap": null,
            "grid_row": null,
            "grid_template_areas": null,
            "grid_template_columns": null,
            "grid_template_rows": null,
            "height": null,
            "justify_content": null,
            "justify_items": null,
            "left": null,
            "margin": null,
            "max_height": null,
            "max_width": null,
            "min_height": null,
            "min_width": null,
            "object_fit": null,
            "object_position": null,
            "order": null,
            "overflow": null,
            "overflow_x": null,
            "overflow_y": null,
            "padding": null,
            "right": null,
            "top": null,
            "visibility": null,
            "width": null
          }
        },
        "5512ef6d023c472b908640786e22079c": {
          "model_module": "@jupyter-widgets/controls",
          "model_name": "DescriptionStyleModel",
          "model_module_version": "1.5.0",
          "state": {
            "_model_module": "@jupyter-widgets/controls",
            "_model_module_version": "1.5.0",
            "_model_name": "DescriptionStyleModel",
            "_view_count": null,
            "_view_module": "@jupyter-widgets/base",
            "_view_module_version": "1.2.0",
            "_view_name": "StyleView",
            "description_width": ""
          }
        },
        "c4af72e6ba10461b816949937171dfe4": {
          "model_module": "@jupyter-widgets/controls",
          "model_name": "HBoxModel",
          "model_module_version": "1.5.0",
          "state": {
            "_dom_classes": [],
            "_model_module": "@jupyter-widgets/controls",
            "_model_module_version": "1.5.0",
            "_model_name": "HBoxModel",
            "_view_count": null,
            "_view_module": "@jupyter-widgets/controls",
            "_view_module_version": "1.5.0",
            "_view_name": "HBoxView",
            "box_style": "",
            "children": [
              "IPY_MODEL_2dc6388d34bf4df798976fca16fb1c95",
              "IPY_MODEL_9680489a482f40a48636112d312ba2b9",
              "IPY_MODEL_964cf5ee96bd4f749d435e519897fad3"
            ],
            "layout": "IPY_MODEL_8ca1338047bd4534b7fa122fbfb385c3"
          }
        },
        "2dc6388d34bf4df798976fca16fb1c95": {
          "model_module": "@jupyter-widgets/controls",
          "model_name": "HTMLModel",
          "model_module_version": "1.5.0",
          "state": {
            "_dom_classes": [],
            "_model_module": "@jupyter-widgets/controls",
            "_model_module_version": "1.5.0",
            "_model_name": "HTMLModel",
            "_view_count": null,
            "_view_module": "@jupyter-widgets/controls",
            "_view_module_version": "1.5.0",
            "_view_name": "HTMLView",
            "description": "",
            "description_tooltip": null,
            "layout": "IPY_MODEL_2306e9e6bf3e426a9f2998cff21d617a",
            "placeholder": "​",
            "style": "IPY_MODEL_47abe26408c1412b88f521805b87658c",
            "value": "Map: 100%"
          }
        },
        "9680489a482f40a48636112d312ba2b9": {
          "model_module": "@jupyter-widgets/controls",
          "model_name": "FloatProgressModel",
          "model_module_version": "1.5.0",
          "state": {
            "_dom_classes": [],
            "_model_module": "@jupyter-widgets/controls",
            "_model_module_version": "1.5.0",
            "_model_name": "FloatProgressModel",
            "_view_count": null,
            "_view_module": "@jupyter-widgets/controls",
            "_view_module_version": "1.5.0",
            "_view_name": "ProgressView",
            "bar_style": "success",
            "description": "",
            "description_tooltip": null,
            "layout": "IPY_MODEL_37a766de1b3142dcabc05052928eaeca",
            "max": 54153,
            "min": 0,
            "orientation": "horizontal",
            "style": "IPY_MODEL_665a4e4535ce4af1a4ddbd7c3141255c",
            "value": 54153
          }
        },
        "964cf5ee96bd4f749d435e519897fad3": {
          "model_module": "@jupyter-widgets/controls",
          "model_name": "HTMLModel",
          "model_module_version": "1.5.0",
          "state": {
            "_dom_classes": [],
            "_model_module": "@jupyter-widgets/controls",
            "_model_module_version": "1.5.0",
            "_model_name": "HTMLModel",
            "_view_count": null,
            "_view_module": "@jupyter-widgets/controls",
            "_view_module_version": "1.5.0",
            "_view_name": "HTMLView",
            "description": "",
            "description_tooltip": null,
            "layout": "IPY_MODEL_cd9a8d28beb34c23b1160f6dac36c06d",
            "placeholder": "​",
            "style": "IPY_MODEL_d7158f2ed70a48a8aa4b1f25113e0b67",
            "value": " 54153/54153 [00:12&lt;00:00, 3475.50 examples/s]"
          }
        },
        "8ca1338047bd4534b7fa122fbfb385c3": {
          "model_module": "@jupyter-widgets/base",
          "model_name": "LayoutModel",
          "model_module_version": "1.2.0",
          "state": {
            "_model_module": "@jupyter-widgets/base",
            "_model_module_version": "1.2.0",
            "_model_name": "LayoutModel",
            "_view_count": null,
            "_view_module": "@jupyter-widgets/base",
            "_view_module_version": "1.2.0",
            "_view_name": "LayoutView",
            "align_content": null,
            "align_items": null,
            "align_self": null,
            "border": null,
            "bottom": null,
            "display": null,
            "flex": null,
            "flex_flow": null,
            "grid_area": null,
            "grid_auto_columns": null,
            "grid_auto_flow": null,
            "grid_auto_rows": null,
            "grid_column": null,
            "grid_gap": null,
            "grid_row": null,
            "grid_template_areas": null,
            "grid_template_columns": null,
            "grid_template_rows": null,
            "height": null,
            "justify_content": null,
            "justify_items": null,
            "left": null,
            "margin": null,
            "max_height": null,
            "max_width": null,
            "min_height": null,
            "min_width": null,
            "object_fit": null,
            "object_position": null,
            "order": null,
            "overflow": null,
            "overflow_x": null,
            "overflow_y": null,
            "padding": null,
            "right": null,
            "top": null,
            "visibility": null,
            "width": null
          }
        },
        "2306e9e6bf3e426a9f2998cff21d617a": {
          "model_module": "@jupyter-widgets/base",
          "model_name": "LayoutModel",
          "model_module_version": "1.2.0",
          "state": {
            "_model_module": "@jupyter-widgets/base",
            "_model_module_version": "1.2.0",
            "_model_name": "LayoutModel",
            "_view_count": null,
            "_view_module": "@jupyter-widgets/base",
            "_view_module_version": "1.2.0",
            "_view_name": "LayoutView",
            "align_content": null,
            "align_items": null,
            "align_self": null,
            "border": null,
            "bottom": null,
            "display": null,
            "flex": null,
            "flex_flow": null,
            "grid_area": null,
            "grid_auto_columns": null,
            "grid_auto_flow": null,
            "grid_auto_rows": null,
            "grid_column": null,
            "grid_gap": null,
            "grid_row": null,
            "grid_template_areas": null,
            "grid_template_columns": null,
            "grid_template_rows": null,
            "height": null,
            "justify_content": null,
            "justify_items": null,
            "left": null,
            "margin": null,
            "max_height": null,
            "max_width": null,
            "min_height": null,
            "min_width": null,
            "object_fit": null,
            "object_position": null,
            "order": null,
            "overflow": null,
            "overflow_x": null,
            "overflow_y": null,
            "padding": null,
            "right": null,
            "top": null,
            "visibility": null,
            "width": null
          }
        },
        "47abe26408c1412b88f521805b87658c": {
          "model_module": "@jupyter-widgets/controls",
          "model_name": "DescriptionStyleModel",
          "model_module_version": "1.5.0",
          "state": {
            "_model_module": "@jupyter-widgets/controls",
            "_model_module_version": "1.5.0",
            "_model_name": "DescriptionStyleModel",
            "_view_count": null,
            "_view_module": "@jupyter-widgets/base",
            "_view_module_version": "1.2.0",
            "_view_name": "StyleView",
            "description_width": ""
          }
        },
        "37a766de1b3142dcabc05052928eaeca": {
          "model_module": "@jupyter-widgets/base",
          "model_name": "LayoutModel",
          "model_module_version": "1.2.0",
          "state": {
            "_model_module": "@jupyter-widgets/base",
            "_model_module_version": "1.2.0",
            "_model_name": "LayoutModel",
            "_view_count": null,
            "_view_module": "@jupyter-widgets/base",
            "_view_module_version": "1.2.0",
            "_view_name": "LayoutView",
            "align_content": null,
            "align_items": null,
            "align_self": null,
            "border": null,
            "bottom": null,
            "display": null,
            "flex": null,
            "flex_flow": null,
            "grid_area": null,
            "grid_auto_columns": null,
            "grid_auto_flow": null,
            "grid_auto_rows": null,
            "grid_column": null,
            "grid_gap": null,
            "grid_row": null,
            "grid_template_areas": null,
            "grid_template_columns": null,
            "grid_template_rows": null,
            "height": null,
            "justify_content": null,
            "justify_items": null,
            "left": null,
            "margin": null,
            "max_height": null,
            "max_width": null,
            "min_height": null,
            "min_width": null,
            "object_fit": null,
            "object_position": null,
            "order": null,
            "overflow": null,
            "overflow_x": null,
            "overflow_y": null,
            "padding": null,
            "right": null,
            "top": null,
            "visibility": null,
            "width": null
          }
        },
        "665a4e4535ce4af1a4ddbd7c3141255c": {
          "model_module": "@jupyter-widgets/controls",
          "model_name": "ProgressStyleModel",
          "model_module_version": "1.5.0",
          "state": {
            "_model_module": "@jupyter-widgets/controls",
            "_model_module_version": "1.5.0",
            "_model_name": "ProgressStyleModel",
            "_view_count": null,
            "_view_module": "@jupyter-widgets/base",
            "_view_module_version": "1.2.0",
            "_view_name": "StyleView",
            "bar_color": null,
            "description_width": ""
          }
        },
        "cd9a8d28beb34c23b1160f6dac36c06d": {
          "model_module": "@jupyter-widgets/base",
          "model_name": "LayoutModel",
          "model_module_version": "1.2.0",
          "state": {
            "_model_module": "@jupyter-widgets/base",
            "_model_module_version": "1.2.0",
            "_model_name": "LayoutModel",
            "_view_count": null,
            "_view_module": "@jupyter-widgets/base",
            "_view_module_version": "1.2.0",
            "_view_name": "LayoutView",
            "align_content": null,
            "align_items": null,
            "align_self": null,
            "border": null,
            "bottom": null,
            "display": null,
            "flex": null,
            "flex_flow": null,
            "grid_area": null,
            "grid_auto_columns": null,
            "grid_auto_flow": null,
            "grid_auto_rows": null,
            "grid_column": null,
            "grid_gap": null,
            "grid_row": null,
            "grid_template_areas": null,
            "grid_template_columns": null,
            "grid_template_rows": null,
            "height": null,
            "justify_content": null,
            "justify_items": null,
            "left": null,
            "margin": null,
            "max_height": null,
            "max_width": null,
            "min_height": null,
            "min_width": null,
            "object_fit": null,
            "object_position": null,
            "order": null,
            "overflow": null,
            "overflow_x": null,
            "overflow_y": null,
            "padding": null,
            "right": null,
            "top": null,
            "visibility": null,
            "width": null
          }
        },
        "d7158f2ed70a48a8aa4b1f25113e0b67": {
          "model_module": "@jupyter-widgets/controls",
          "model_name": "DescriptionStyleModel",
          "model_module_version": "1.5.0",
          "state": {
            "_model_module": "@jupyter-widgets/controls",
            "_model_module_version": "1.5.0",
            "_model_name": "DescriptionStyleModel",
            "_view_count": null,
            "_view_module": "@jupyter-widgets/base",
            "_view_module_version": "1.2.0",
            "_view_name": "StyleView",
            "description_width": ""
          }
        },
        "ac3eb6614fdc40e7a1997428100159d9": {
          "model_module": "@jupyter-widgets/controls",
          "model_name": "HBoxModel",
          "model_module_version": "1.5.0",
          "state": {
            "_dom_classes": [],
            "_model_module": "@jupyter-widgets/controls",
            "_model_module_version": "1.5.0",
            "_model_name": "HBoxModel",
            "_view_count": null,
            "_view_module": "@jupyter-widgets/controls",
            "_view_module_version": "1.5.0",
            "_view_name": "HBoxView",
            "box_style": "",
            "children": [
              "IPY_MODEL_98ccaf59e52a47959b72acdc748962f4",
              "IPY_MODEL_7cc83309e808454cb817647e1736824b",
              "IPY_MODEL_9e1b59629c2248a98b79abb8bc90bb64"
            ],
            "layout": "IPY_MODEL_f4797762b8b5460f85ce431e396dfcf2"
          }
        },
        "98ccaf59e52a47959b72acdc748962f4": {
          "model_module": "@jupyter-widgets/controls",
          "model_name": "HTMLModel",
          "model_module_version": "1.5.0",
          "state": {
            "_dom_classes": [],
            "_model_module": "@jupyter-widgets/controls",
            "_model_module_version": "1.5.0",
            "_model_name": "HTMLModel",
            "_view_count": null,
            "_view_module": "@jupyter-widgets/controls",
            "_view_module_version": "1.5.0",
            "_view_name": "HTMLView",
            "description": "",
            "description_tooltip": null,
            "layout": "IPY_MODEL_c77d642a0b064502bdb24ca454ff8c12",
            "placeholder": "​",
            "style": "IPY_MODEL_df8e7dfe1f6b4fdcb03279afb0c809f2",
            "value": "Map: 100%"
          }
        },
        "7cc83309e808454cb817647e1736824b": {
          "model_module": "@jupyter-widgets/controls",
          "model_name": "FloatProgressModel",
          "model_module_version": "1.5.0",
          "state": {
            "_dom_classes": [],
            "_model_module": "@jupyter-widgets/controls",
            "_model_module_version": "1.5.0",
            "_model_name": "FloatProgressModel",
            "_view_count": null,
            "_view_module": "@jupyter-widgets/controls",
            "_view_module_version": "1.5.0",
            "_view_name": "ProgressView",
            "bar_style": "success",
            "description": "",
            "description_tooltip": null,
            "layout": "IPY_MODEL_432e9dbcdbe74bbf8f10e066f7f21825",
            "max": 5426,
            "min": 0,
            "orientation": "horizontal",
            "style": "IPY_MODEL_96bebf9457374b9aacadf98948d826fc",
            "value": 5426
          }
        },
        "9e1b59629c2248a98b79abb8bc90bb64": {
          "model_module": "@jupyter-widgets/controls",
          "model_name": "HTMLModel",
          "model_module_version": "1.5.0",
          "state": {
            "_dom_classes": [],
            "_model_module": "@jupyter-widgets/controls",
            "_model_module_version": "1.5.0",
            "_model_name": "HTMLModel",
            "_view_count": null,
            "_view_module": "@jupyter-widgets/controls",
            "_view_module_version": "1.5.0",
            "_view_name": "HTMLView",
            "description": "",
            "description_tooltip": null,
            "layout": "IPY_MODEL_68f2b8b00791462fb6baf103cdca72b0",
            "placeholder": "​",
            "style": "IPY_MODEL_fd2e04c9c03a49e28e1bd40ec20c93bf",
            "value": " 5426/5426 [00:01&lt;00:00, 5289.38 examples/s]"
          }
        },
        "f4797762b8b5460f85ce431e396dfcf2": {
          "model_module": "@jupyter-widgets/base",
          "model_name": "LayoutModel",
          "model_module_version": "1.2.0",
          "state": {
            "_model_module": "@jupyter-widgets/base",
            "_model_module_version": "1.2.0",
            "_model_name": "LayoutModel",
            "_view_count": null,
            "_view_module": "@jupyter-widgets/base",
            "_view_module_version": "1.2.0",
            "_view_name": "LayoutView",
            "align_content": null,
            "align_items": null,
            "align_self": null,
            "border": null,
            "bottom": null,
            "display": null,
            "flex": null,
            "flex_flow": null,
            "grid_area": null,
            "grid_auto_columns": null,
            "grid_auto_flow": null,
            "grid_auto_rows": null,
            "grid_column": null,
            "grid_gap": null,
            "grid_row": null,
            "grid_template_areas": null,
            "grid_template_columns": null,
            "grid_template_rows": null,
            "height": null,
            "justify_content": null,
            "justify_items": null,
            "left": null,
            "margin": null,
            "max_height": null,
            "max_width": null,
            "min_height": null,
            "min_width": null,
            "object_fit": null,
            "object_position": null,
            "order": null,
            "overflow": null,
            "overflow_x": null,
            "overflow_y": null,
            "padding": null,
            "right": null,
            "top": null,
            "visibility": null,
            "width": null
          }
        },
        "c77d642a0b064502bdb24ca454ff8c12": {
          "model_module": "@jupyter-widgets/base",
          "model_name": "LayoutModel",
          "model_module_version": "1.2.0",
          "state": {
            "_model_module": "@jupyter-widgets/base",
            "_model_module_version": "1.2.0",
            "_model_name": "LayoutModel",
            "_view_count": null,
            "_view_module": "@jupyter-widgets/base",
            "_view_module_version": "1.2.0",
            "_view_name": "LayoutView",
            "align_content": null,
            "align_items": null,
            "align_self": null,
            "border": null,
            "bottom": null,
            "display": null,
            "flex": null,
            "flex_flow": null,
            "grid_area": null,
            "grid_auto_columns": null,
            "grid_auto_flow": null,
            "grid_auto_rows": null,
            "grid_column": null,
            "grid_gap": null,
            "grid_row": null,
            "grid_template_areas": null,
            "grid_template_columns": null,
            "grid_template_rows": null,
            "height": null,
            "justify_content": null,
            "justify_items": null,
            "left": null,
            "margin": null,
            "max_height": null,
            "max_width": null,
            "min_height": null,
            "min_width": null,
            "object_fit": null,
            "object_position": null,
            "order": null,
            "overflow": null,
            "overflow_x": null,
            "overflow_y": null,
            "padding": null,
            "right": null,
            "top": null,
            "visibility": null,
            "width": null
          }
        },
        "df8e7dfe1f6b4fdcb03279afb0c809f2": {
          "model_module": "@jupyter-widgets/controls",
          "model_name": "DescriptionStyleModel",
          "model_module_version": "1.5.0",
          "state": {
            "_model_module": "@jupyter-widgets/controls",
            "_model_module_version": "1.5.0",
            "_model_name": "DescriptionStyleModel",
            "_view_count": null,
            "_view_module": "@jupyter-widgets/base",
            "_view_module_version": "1.2.0",
            "_view_name": "StyleView",
            "description_width": ""
          }
        },
        "432e9dbcdbe74bbf8f10e066f7f21825": {
          "model_module": "@jupyter-widgets/base",
          "model_name": "LayoutModel",
          "model_module_version": "1.2.0",
          "state": {
            "_model_module": "@jupyter-widgets/base",
            "_model_module_version": "1.2.0",
            "_model_name": "LayoutModel",
            "_view_count": null,
            "_view_module": "@jupyter-widgets/base",
            "_view_module_version": "1.2.0",
            "_view_name": "LayoutView",
            "align_content": null,
            "align_items": null,
            "align_self": null,
            "border": null,
            "bottom": null,
            "display": null,
            "flex": null,
            "flex_flow": null,
            "grid_area": null,
            "grid_auto_columns": null,
            "grid_auto_flow": null,
            "grid_auto_rows": null,
            "grid_column": null,
            "grid_gap": null,
            "grid_row": null,
            "grid_template_areas": null,
            "grid_template_columns": null,
            "grid_template_rows": null,
            "height": null,
            "justify_content": null,
            "justify_items": null,
            "left": null,
            "margin": null,
            "max_height": null,
            "max_width": null,
            "min_height": null,
            "min_width": null,
            "object_fit": null,
            "object_position": null,
            "order": null,
            "overflow": null,
            "overflow_x": null,
            "overflow_y": null,
            "padding": null,
            "right": null,
            "top": null,
            "visibility": null,
            "width": null
          }
        },
        "96bebf9457374b9aacadf98948d826fc": {
          "model_module": "@jupyter-widgets/controls",
          "model_name": "ProgressStyleModel",
          "model_module_version": "1.5.0",
          "state": {
            "_model_module": "@jupyter-widgets/controls",
            "_model_module_version": "1.5.0",
            "_model_name": "ProgressStyleModel",
            "_view_count": null,
            "_view_module": "@jupyter-widgets/base",
            "_view_module_version": "1.2.0",
            "_view_name": "StyleView",
            "bar_color": null,
            "description_width": ""
          }
        },
        "68f2b8b00791462fb6baf103cdca72b0": {
          "model_module": "@jupyter-widgets/base",
          "model_name": "LayoutModel",
          "model_module_version": "1.2.0",
          "state": {
            "_model_module": "@jupyter-widgets/base",
            "_model_module_version": "1.2.0",
            "_model_name": "LayoutModel",
            "_view_count": null,
            "_view_module": "@jupyter-widgets/base",
            "_view_module_version": "1.2.0",
            "_view_name": "LayoutView",
            "align_content": null,
            "align_items": null,
            "align_self": null,
            "border": null,
            "bottom": null,
            "display": null,
            "flex": null,
            "flex_flow": null,
            "grid_area": null,
            "grid_auto_columns": null,
            "grid_auto_flow": null,
            "grid_auto_rows": null,
            "grid_column": null,
            "grid_gap": null,
            "grid_row": null,
            "grid_template_areas": null,
            "grid_template_columns": null,
            "grid_template_rows": null,
            "height": null,
            "justify_content": null,
            "justify_items": null,
            "left": null,
            "margin": null,
            "max_height": null,
            "max_width": null,
            "min_height": null,
            "min_width": null,
            "object_fit": null,
            "object_position": null,
            "order": null,
            "overflow": null,
            "overflow_x": null,
            "overflow_y": null,
            "padding": null,
            "right": null,
            "top": null,
            "visibility": null,
            "width": null
          }
        },
        "fd2e04c9c03a49e28e1bd40ec20c93bf": {
          "model_module": "@jupyter-widgets/controls",
          "model_name": "DescriptionStyleModel",
          "model_module_version": "1.5.0",
          "state": {
            "_model_module": "@jupyter-widgets/controls",
            "_model_module_version": "1.5.0",
            "_model_name": "DescriptionStyleModel",
            "_view_count": null,
            "_view_module": "@jupyter-widgets/base",
            "_view_module_version": "1.2.0",
            "_view_name": "StyleView",
            "description_width": ""
          }
        },
        "72e2f4871d454049bb84260b86a9da2a": {
          "model_module": "@jupyter-widgets/controls",
          "model_name": "HBoxModel",
          "model_module_version": "1.5.0",
          "state": {
            "_dom_classes": [],
            "_model_module": "@jupyter-widgets/controls",
            "_model_module_version": "1.5.0",
            "_model_name": "HBoxModel",
            "_view_count": null,
            "_view_module": "@jupyter-widgets/controls",
            "_view_module_version": "1.5.0",
            "_view_name": "HBoxView",
            "box_style": "",
            "children": [
              "IPY_MODEL_ac4dd0d4695f4a68bec568a7267feed1",
              "IPY_MODEL_e36dd2600e5f42cbacb845949c6e5b9e",
              "IPY_MODEL_c579b7cc64454607ab61c1fa92ec8b5e"
            ],
            "layout": "IPY_MODEL_77e5fbc3b4b749ec85c9220d12abbed5"
          }
        },
        "ac4dd0d4695f4a68bec568a7267feed1": {
          "model_module": "@jupyter-widgets/controls",
          "model_name": "HTMLModel",
          "model_module_version": "1.5.0",
          "state": {
            "_dom_classes": [],
            "_model_module": "@jupyter-widgets/controls",
            "_model_module_version": "1.5.0",
            "_model_name": "HTMLModel",
            "_view_count": null,
            "_view_module": "@jupyter-widgets/controls",
            "_view_module_version": "1.5.0",
            "_view_name": "HTMLView",
            "description": "",
            "description_tooltip": null,
            "layout": "IPY_MODEL_6e6f247bf6fa405daacd16e3c76fd5ea",
            "placeholder": "​",
            "style": "IPY_MODEL_b972f586a48d48efb4646e87c9e7ae69",
            "value": "Map: 100%"
          }
        },
        "e36dd2600e5f42cbacb845949c6e5b9e": {
          "model_module": "@jupyter-widgets/controls",
          "model_name": "FloatProgressModel",
          "model_module_version": "1.5.0",
          "state": {
            "_dom_classes": [],
            "_model_module": "@jupyter-widgets/controls",
            "_model_module_version": "1.5.0",
            "_model_name": "FloatProgressModel",
            "_view_count": null,
            "_view_module": "@jupyter-widgets/controls",
            "_view_module_version": "1.5.0",
            "_view_name": "ProgressView",
            "bar_style": "success",
            "description": "",
            "description_tooltip": null,
            "layout": "IPY_MODEL_45e6e7707b514084a0f024794e382d40",
            "max": 5427,
            "min": 0,
            "orientation": "horizontal",
            "style": "IPY_MODEL_fd381021a56d432b8b95e6f3156aaf26",
            "value": 5427
          }
        },
        "c579b7cc64454607ab61c1fa92ec8b5e": {
          "model_module": "@jupyter-widgets/controls",
          "model_name": "HTMLModel",
          "model_module_version": "1.5.0",
          "state": {
            "_dom_classes": [],
            "_model_module": "@jupyter-widgets/controls",
            "_model_module_version": "1.5.0",
            "_model_name": "HTMLModel",
            "_view_count": null,
            "_view_module": "@jupyter-widgets/controls",
            "_view_module_version": "1.5.0",
            "_view_name": "HTMLView",
            "description": "",
            "description_tooltip": null,
            "layout": "IPY_MODEL_ee26b24e8b624a72a2fac944c420372b",
            "placeholder": "​",
            "style": "IPY_MODEL_383add8740cc4db886cc479ebb92e3e4",
            "value": " 5427/5427 [00:01&lt;00:00, 5226.72 examples/s]"
          }
        },
        "77e5fbc3b4b749ec85c9220d12abbed5": {
          "model_module": "@jupyter-widgets/base",
          "model_name": "LayoutModel",
          "model_module_version": "1.2.0",
          "state": {
            "_model_module": "@jupyter-widgets/base",
            "_model_module_version": "1.2.0",
            "_model_name": "LayoutModel",
            "_view_count": null,
            "_view_module": "@jupyter-widgets/base",
            "_view_module_version": "1.2.0",
            "_view_name": "LayoutView",
            "align_content": null,
            "align_items": null,
            "align_self": null,
            "border": null,
            "bottom": null,
            "display": null,
            "flex": null,
            "flex_flow": null,
            "grid_area": null,
            "grid_auto_columns": null,
            "grid_auto_flow": null,
            "grid_auto_rows": null,
            "grid_column": null,
            "grid_gap": null,
            "grid_row": null,
            "grid_template_areas": null,
            "grid_template_columns": null,
            "grid_template_rows": null,
            "height": null,
            "justify_content": null,
            "justify_items": null,
            "left": null,
            "margin": null,
            "max_height": null,
            "max_width": null,
            "min_height": null,
            "min_width": null,
            "object_fit": null,
            "object_position": null,
            "order": null,
            "overflow": null,
            "overflow_x": null,
            "overflow_y": null,
            "padding": null,
            "right": null,
            "top": null,
            "visibility": null,
            "width": null
          }
        },
        "6e6f247bf6fa405daacd16e3c76fd5ea": {
          "model_module": "@jupyter-widgets/base",
          "model_name": "LayoutModel",
          "model_module_version": "1.2.0",
          "state": {
            "_model_module": "@jupyter-widgets/base",
            "_model_module_version": "1.2.0",
            "_model_name": "LayoutModel",
            "_view_count": null,
            "_view_module": "@jupyter-widgets/base",
            "_view_module_version": "1.2.0",
            "_view_name": "LayoutView",
            "align_content": null,
            "align_items": null,
            "align_self": null,
            "border": null,
            "bottom": null,
            "display": null,
            "flex": null,
            "flex_flow": null,
            "grid_area": null,
            "grid_auto_columns": null,
            "grid_auto_flow": null,
            "grid_auto_rows": null,
            "grid_column": null,
            "grid_gap": null,
            "grid_row": null,
            "grid_template_areas": null,
            "grid_template_columns": null,
            "grid_template_rows": null,
            "height": null,
            "justify_content": null,
            "justify_items": null,
            "left": null,
            "margin": null,
            "max_height": null,
            "max_width": null,
            "min_height": null,
            "min_width": null,
            "object_fit": null,
            "object_position": null,
            "order": null,
            "overflow": null,
            "overflow_x": null,
            "overflow_y": null,
            "padding": null,
            "right": null,
            "top": null,
            "visibility": null,
            "width": null
          }
        },
        "b972f586a48d48efb4646e87c9e7ae69": {
          "model_module": "@jupyter-widgets/controls",
          "model_name": "DescriptionStyleModel",
          "model_module_version": "1.5.0",
          "state": {
            "_model_module": "@jupyter-widgets/controls",
            "_model_module_version": "1.5.0",
            "_model_name": "DescriptionStyleModel",
            "_view_count": null,
            "_view_module": "@jupyter-widgets/base",
            "_view_module_version": "1.2.0",
            "_view_name": "StyleView",
            "description_width": ""
          }
        },
        "45e6e7707b514084a0f024794e382d40": {
          "model_module": "@jupyter-widgets/base",
          "model_name": "LayoutModel",
          "model_module_version": "1.2.0",
          "state": {
            "_model_module": "@jupyter-widgets/base",
            "_model_module_version": "1.2.0",
            "_model_name": "LayoutModel",
            "_view_count": null,
            "_view_module": "@jupyter-widgets/base",
            "_view_module_version": "1.2.0",
            "_view_name": "LayoutView",
            "align_content": null,
            "align_items": null,
            "align_self": null,
            "border": null,
            "bottom": null,
            "display": null,
            "flex": null,
            "flex_flow": null,
            "grid_area": null,
            "grid_auto_columns": null,
            "grid_auto_flow": null,
            "grid_auto_rows": null,
            "grid_column": null,
            "grid_gap": null,
            "grid_row": null,
            "grid_template_areas": null,
            "grid_template_columns": null,
            "grid_template_rows": null,
            "height": null,
            "justify_content": null,
            "justify_items": null,
            "left": null,
            "margin": null,
            "max_height": null,
            "max_width": null,
            "min_height": null,
            "min_width": null,
            "object_fit": null,
            "object_position": null,
            "order": null,
            "overflow": null,
            "overflow_x": null,
            "overflow_y": null,
            "padding": null,
            "right": null,
            "top": null,
            "visibility": null,
            "width": null
          }
        },
        "fd381021a56d432b8b95e6f3156aaf26": {
          "model_module": "@jupyter-widgets/controls",
          "model_name": "ProgressStyleModel",
          "model_module_version": "1.5.0",
          "state": {
            "_model_module": "@jupyter-widgets/controls",
            "_model_module_version": "1.5.0",
            "_model_name": "ProgressStyleModel",
            "_view_count": null,
            "_view_module": "@jupyter-widgets/base",
            "_view_module_version": "1.2.0",
            "_view_name": "StyleView",
            "bar_color": null,
            "description_width": ""
          }
        },
        "ee26b24e8b624a72a2fac944c420372b": {
          "model_module": "@jupyter-widgets/base",
          "model_name": "LayoutModel",
          "model_module_version": "1.2.0",
          "state": {
            "_model_module": "@jupyter-widgets/base",
            "_model_module_version": "1.2.0",
            "_model_name": "LayoutModel",
            "_view_count": null,
            "_view_module": "@jupyter-widgets/base",
            "_view_module_version": "1.2.0",
            "_view_name": "LayoutView",
            "align_content": null,
            "align_items": null,
            "align_self": null,
            "border": null,
            "bottom": null,
            "display": null,
            "flex": null,
            "flex_flow": null,
            "grid_area": null,
            "grid_auto_columns": null,
            "grid_auto_flow": null,
            "grid_auto_rows": null,
            "grid_column": null,
            "grid_gap": null,
            "grid_row": null,
            "grid_template_areas": null,
            "grid_template_columns": null,
            "grid_template_rows": null,
            "height": null,
            "justify_content": null,
            "justify_items": null,
            "left": null,
            "margin": null,
            "max_height": null,
            "max_width": null,
            "min_height": null,
            "min_width": null,
            "object_fit": null,
            "object_position": null,
            "order": null,
            "overflow": null,
            "overflow_x": null,
            "overflow_y": null,
            "padding": null,
            "right": null,
            "top": null,
            "visibility": null,
            "width": null
          }
        },
        "383add8740cc4db886cc479ebb92e3e4": {
          "model_module": "@jupyter-widgets/controls",
          "model_name": "DescriptionStyleModel",
          "model_module_version": "1.5.0",
          "state": {
            "_model_module": "@jupyter-widgets/controls",
            "_model_module_version": "1.5.0",
            "_model_name": "DescriptionStyleModel",
            "_view_count": null,
            "_view_module": "@jupyter-widgets/base",
            "_view_module_version": "1.2.0",
            "_view_name": "StyleView",
            "description_width": ""
          }
        }
      }
    }
  },
  "cells": [
    {
      "cell_type": "code",
      "source": [
        "!pip install evaluate\n",
        "!pip install --upgrade datasets\n",
        "!pip install wandb\n",
        "!pip install transformers"
      ],
      "metadata": {
        "colab": {
          "base_uri": "https://localhost:8080/"
        },
        "id": "LW7KrXDcDDb2",
        "outputId": "20d53a87-784a-4cd9-ad88-bcf67c6a4a98"
      },
      "execution_count": 1,
      "outputs": [
        {
          "output_type": "stream",
          "name": "stdout",
          "text": [
            "Collecting evaluate\n",
            "  Downloading evaluate-0.4.5-py3-none-any.whl.metadata (9.5 kB)\n",
            "Requirement already satisfied: datasets>=2.0.0 in /usr/local/lib/python3.11/dist-packages (from evaluate) (2.14.4)\n",
            "Requirement already satisfied: numpy>=1.17 in /usr/local/lib/python3.11/dist-packages (from evaluate) (2.0.2)\n",
            "Requirement already satisfied: dill in /usr/local/lib/python3.11/dist-packages (from evaluate) (0.3.7)\n",
            "Requirement already satisfied: pandas in /usr/local/lib/python3.11/dist-packages (from evaluate) (2.2.2)\n",
            "Requirement already satisfied: requests>=2.19.0 in /usr/local/lib/python3.11/dist-packages (from evaluate) (2.32.3)\n",
            "Requirement already satisfied: tqdm>=4.62.1 in /usr/local/lib/python3.11/dist-packages (from evaluate) (4.67.1)\n",
            "Requirement already satisfied: xxhash in /usr/local/lib/python3.11/dist-packages (from evaluate) (3.5.0)\n",
            "Requirement already satisfied: multiprocess in /usr/local/lib/python3.11/dist-packages (from evaluate) (0.70.15)\n",
            "Requirement already satisfied: fsspec>=2021.05.0 in /usr/local/lib/python3.11/dist-packages (from fsspec[http]>=2021.05.0->evaluate) (2025.3.2)\n",
            "Requirement already satisfied: huggingface-hub>=0.7.0 in /usr/local/lib/python3.11/dist-packages (from evaluate) (0.33.4)\n",
            "Requirement already satisfied: packaging in /usr/local/lib/python3.11/dist-packages (from evaluate) (24.2)\n",
            "Requirement already satisfied: pyarrow>=8.0.0 in /usr/local/lib/python3.11/dist-packages (from datasets>=2.0.0->evaluate) (18.1.0)\n",
            "Requirement already satisfied: aiohttp in /usr/local/lib/python3.11/dist-packages (from datasets>=2.0.0->evaluate) (3.11.15)\n",
            "Requirement already satisfied: pyyaml>=5.1 in /usr/local/lib/python3.11/dist-packages (from datasets>=2.0.0->evaluate) (6.0.2)\n",
            "Requirement already satisfied: filelock in /usr/local/lib/python3.11/dist-packages (from huggingface-hub>=0.7.0->evaluate) (3.18.0)\n",
            "Requirement already satisfied: typing-extensions>=3.7.4.3 in /usr/local/lib/python3.11/dist-packages (from huggingface-hub>=0.7.0->evaluate) (4.14.1)\n",
            "Requirement already satisfied: hf-xet<2.0.0,>=1.1.2 in /usr/local/lib/python3.11/dist-packages (from huggingface-hub>=0.7.0->evaluate) (1.1.5)\n",
            "Requirement already satisfied: charset-normalizer<4,>=2 in /usr/local/lib/python3.11/dist-packages (from requests>=2.19.0->evaluate) (3.4.2)\n",
            "Requirement already satisfied: idna<4,>=2.5 in /usr/local/lib/python3.11/dist-packages (from requests>=2.19.0->evaluate) (3.10)\n",
            "Requirement already satisfied: urllib3<3,>=1.21.1 in /usr/local/lib/python3.11/dist-packages (from requests>=2.19.0->evaluate) (2.4.0)\n",
            "Requirement already satisfied: certifi>=2017.4.17 in /usr/local/lib/python3.11/dist-packages (from requests>=2.19.0->evaluate) (2025.7.14)\n",
            "Requirement already satisfied: python-dateutil>=2.8.2 in /usr/local/lib/python3.11/dist-packages (from pandas->evaluate) (2.9.0.post0)\n",
            "Requirement already satisfied: pytz>=2020.1 in /usr/local/lib/python3.11/dist-packages (from pandas->evaluate) (2025.2)\n",
            "Requirement already satisfied: tzdata>=2022.7 in /usr/local/lib/python3.11/dist-packages (from pandas->evaluate) (2025.2)\n",
            "Requirement already satisfied: aiohappyeyeballs>=2.3.0 in /usr/local/lib/python3.11/dist-packages (from aiohttp->datasets>=2.0.0->evaluate) (2.6.1)\n",
            "Requirement already satisfied: aiosignal>=1.1.2 in /usr/local/lib/python3.11/dist-packages (from aiohttp->datasets>=2.0.0->evaluate) (1.4.0)\n",
            "Requirement already satisfied: attrs>=17.3.0 in /usr/local/lib/python3.11/dist-packages (from aiohttp->datasets>=2.0.0->evaluate) (25.3.0)\n",
            "Requirement already satisfied: frozenlist>=1.1.1 in /usr/local/lib/python3.11/dist-packages (from aiohttp->datasets>=2.0.0->evaluate) (1.7.0)\n",
            "Requirement already satisfied: multidict<7.0,>=4.5 in /usr/local/lib/python3.11/dist-packages (from aiohttp->datasets>=2.0.0->evaluate) (6.6.3)\n",
            "Requirement already satisfied: propcache>=0.2.0 in /usr/local/lib/python3.11/dist-packages (from aiohttp->datasets>=2.0.0->evaluate) (0.3.2)\n",
            "Requirement already satisfied: yarl<2.0,>=1.17.0 in /usr/local/lib/python3.11/dist-packages (from aiohttp->datasets>=2.0.0->evaluate) (1.20.1)\n",
            "Requirement already satisfied: six>=1.5 in /usr/local/lib/python3.11/dist-packages (from python-dateutil>=2.8.2->pandas->evaluate) (1.17.0)\n",
            "Downloading evaluate-0.4.5-py3-none-any.whl (84 kB)\n",
            "\u001b[?25l   \u001b[90m━━━━━━━━━━━━━━━━━━━━━━━━━━━━━━━━━━━━━━━━\u001b[0m \u001b[32m0.0/84.1 kB\u001b[0m \u001b[31m?\u001b[0m eta \u001b[36m-:--:--\u001b[0m\r\u001b[2K   \u001b[90m━━━━━━━━━━━━━━━━━━━━━━━━━━━━━━━━━━━━━━━━\u001b[0m \u001b[32m84.1/84.1 kB\u001b[0m \u001b[31m5.4 MB/s\u001b[0m eta \u001b[36m0:00:00\u001b[0m\n",
            "\u001b[?25hInstalling collected packages: evaluate\n",
            "Successfully installed evaluate-0.4.5\n",
            "Requirement already satisfied: datasets in /usr/local/lib/python3.11/dist-packages (2.14.4)\n",
            "Collecting datasets\n",
            "  Downloading datasets-4.0.0-py3-none-any.whl.metadata (19 kB)\n",
            "Requirement already satisfied: filelock in /usr/local/lib/python3.11/dist-packages (from datasets) (3.18.0)\n",
            "Requirement already satisfied: numpy>=1.17 in /usr/local/lib/python3.11/dist-packages (from datasets) (2.0.2)\n",
            "Requirement already satisfied: pyarrow>=15.0.0 in /usr/local/lib/python3.11/dist-packages (from datasets) (18.1.0)\n",
            "Requirement already satisfied: dill<0.3.9,>=0.3.0 in /usr/local/lib/python3.11/dist-packages (from datasets) (0.3.7)\n",
            "Requirement already satisfied: pandas in /usr/local/lib/python3.11/dist-packages (from datasets) (2.2.2)\n",
            "Requirement already satisfied: requests>=2.32.2 in /usr/local/lib/python3.11/dist-packages (from datasets) (2.32.3)\n",
            "Requirement already satisfied: tqdm>=4.66.3 in /usr/local/lib/python3.11/dist-packages (from datasets) (4.67.1)\n",
            "Requirement already satisfied: xxhash in /usr/local/lib/python3.11/dist-packages (from datasets) (3.5.0)\n",
            "Requirement already satisfied: multiprocess<0.70.17 in /usr/local/lib/python3.11/dist-packages (from datasets) (0.70.15)\n",
            "Collecting fsspec<=2025.3.0,>=2023.1.0 (from fsspec[http]<=2025.3.0,>=2023.1.0->datasets)\n",
            "  Downloading fsspec-2025.3.0-py3-none-any.whl.metadata (11 kB)\n",
            "Requirement already satisfied: huggingface-hub>=0.24.0 in /usr/local/lib/python3.11/dist-packages (from datasets) (0.33.4)\n",
            "Requirement already satisfied: packaging in /usr/local/lib/python3.11/dist-packages (from datasets) (24.2)\n",
            "Requirement already satisfied: pyyaml>=5.1 in /usr/local/lib/python3.11/dist-packages (from datasets) (6.0.2)\n",
            "Requirement already satisfied: aiohttp!=4.0.0a0,!=4.0.0a1 in /usr/local/lib/python3.11/dist-packages (from fsspec[http]<=2025.3.0,>=2023.1.0->datasets) (3.11.15)\n",
            "Requirement already satisfied: typing-extensions>=3.7.4.3 in /usr/local/lib/python3.11/dist-packages (from huggingface-hub>=0.24.0->datasets) (4.14.1)\n",
            "Requirement already satisfied: hf-xet<2.0.0,>=1.1.2 in /usr/local/lib/python3.11/dist-packages (from huggingface-hub>=0.24.0->datasets) (1.1.5)\n",
            "Requirement already satisfied: charset-normalizer<4,>=2 in /usr/local/lib/python3.11/dist-packages (from requests>=2.32.2->datasets) (3.4.2)\n",
            "Requirement already satisfied: idna<4,>=2.5 in /usr/local/lib/python3.11/dist-packages (from requests>=2.32.2->datasets) (3.10)\n",
            "Requirement already satisfied: urllib3<3,>=1.21.1 in /usr/local/lib/python3.11/dist-packages (from requests>=2.32.2->datasets) (2.4.0)\n",
            "Requirement already satisfied: certifi>=2017.4.17 in /usr/local/lib/python3.11/dist-packages (from requests>=2.32.2->datasets) (2025.7.14)\n",
            "Requirement already satisfied: python-dateutil>=2.8.2 in /usr/local/lib/python3.11/dist-packages (from pandas->datasets) (2.9.0.post0)\n",
            "Requirement already satisfied: pytz>=2020.1 in /usr/local/lib/python3.11/dist-packages (from pandas->datasets) (2025.2)\n",
            "Requirement already satisfied: tzdata>=2022.7 in /usr/local/lib/python3.11/dist-packages (from pandas->datasets) (2025.2)\n",
            "Requirement already satisfied: aiohappyeyeballs>=2.3.0 in /usr/local/lib/python3.11/dist-packages (from aiohttp!=4.0.0a0,!=4.0.0a1->fsspec[http]<=2025.3.0,>=2023.1.0->datasets) (2.6.1)\n",
            "Requirement already satisfied: aiosignal>=1.1.2 in /usr/local/lib/python3.11/dist-packages (from aiohttp!=4.0.0a0,!=4.0.0a1->fsspec[http]<=2025.3.0,>=2023.1.0->datasets) (1.4.0)\n",
            "Requirement already satisfied: attrs>=17.3.0 in /usr/local/lib/python3.11/dist-packages (from aiohttp!=4.0.0a0,!=4.0.0a1->fsspec[http]<=2025.3.0,>=2023.1.0->datasets) (25.3.0)\n",
            "Requirement already satisfied: frozenlist>=1.1.1 in /usr/local/lib/python3.11/dist-packages (from aiohttp!=4.0.0a0,!=4.0.0a1->fsspec[http]<=2025.3.0,>=2023.1.0->datasets) (1.7.0)\n",
            "Requirement already satisfied: multidict<7.0,>=4.5 in /usr/local/lib/python3.11/dist-packages (from aiohttp!=4.0.0a0,!=4.0.0a1->fsspec[http]<=2025.3.0,>=2023.1.0->datasets) (6.6.3)\n",
            "Requirement already satisfied: propcache>=0.2.0 in /usr/local/lib/python3.11/dist-packages (from aiohttp!=4.0.0a0,!=4.0.0a1->fsspec[http]<=2025.3.0,>=2023.1.0->datasets) (0.3.2)\n",
            "Requirement already satisfied: yarl<2.0,>=1.17.0 in /usr/local/lib/python3.11/dist-packages (from aiohttp!=4.0.0a0,!=4.0.0a1->fsspec[http]<=2025.3.0,>=2023.1.0->datasets) (1.20.1)\n",
            "Requirement already satisfied: six>=1.5 in /usr/local/lib/python3.11/dist-packages (from python-dateutil>=2.8.2->pandas->datasets) (1.17.0)\n",
            "Downloading datasets-4.0.0-py3-none-any.whl (494 kB)\n",
            "\u001b[2K   \u001b[90m━━━━━━━━━━━━━━━━━━━━━━━━━━━━━━━━━━━━━━━━\u001b[0m \u001b[32m494.8/494.8 kB\u001b[0m \u001b[31m30.8 MB/s\u001b[0m eta \u001b[36m0:00:00\u001b[0m\n",
            "\u001b[?25hDownloading fsspec-2025.3.0-py3-none-any.whl (193 kB)\n",
            "\u001b[2K   \u001b[90m━━━━━━━━━━━━━━━━━━━━━━━━━━━━━━━━━━━━━━━━\u001b[0m \u001b[32m193.6/193.6 kB\u001b[0m \u001b[31m18.4 MB/s\u001b[0m eta \u001b[36m0:00:00\u001b[0m\n",
            "\u001b[?25hInstalling collected packages: fsspec, datasets\n",
            "  Attempting uninstall: fsspec\n",
            "    Found existing installation: fsspec 2025.3.2\n",
            "    Uninstalling fsspec-2025.3.2:\n",
            "      Successfully uninstalled fsspec-2025.3.2\n",
            "  Attempting uninstall: datasets\n",
            "    Found existing installation: datasets 2.14.4\n",
            "    Uninstalling datasets-2.14.4:\n",
            "      Successfully uninstalled datasets-2.14.4\n",
            "\u001b[31mERROR: pip's dependency resolver does not currently take into account all the packages that are installed. This behaviour is the source of the following dependency conflicts.\n",
            "gcsfs 2025.3.2 requires fsspec==2025.3.2, but you have fsspec 2025.3.0 which is incompatible.\n",
            "torch 2.6.0+cu124 requires nvidia-cublas-cu12==12.4.5.8; platform_system == \"Linux\" and platform_machine == \"x86_64\", but you have nvidia-cublas-cu12 12.5.3.2 which is incompatible.\n",
            "torch 2.6.0+cu124 requires nvidia-cuda-cupti-cu12==12.4.127; platform_system == \"Linux\" and platform_machine == \"x86_64\", but you have nvidia-cuda-cupti-cu12 12.5.82 which is incompatible.\n",
            "torch 2.6.0+cu124 requires nvidia-cuda-nvrtc-cu12==12.4.127; platform_system == \"Linux\" and platform_machine == \"x86_64\", but you have nvidia-cuda-nvrtc-cu12 12.5.82 which is incompatible.\n",
            "torch 2.6.0+cu124 requires nvidia-cuda-runtime-cu12==12.4.127; platform_system == \"Linux\" and platform_machine == \"x86_64\", but you have nvidia-cuda-runtime-cu12 12.5.82 which is incompatible.\n",
            "torch 2.6.0+cu124 requires nvidia-cudnn-cu12==9.1.0.70; platform_system == \"Linux\" and platform_machine == \"x86_64\", but you have nvidia-cudnn-cu12 9.3.0.75 which is incompatible.\n",
            "torch 2.6.0+cu124 requires nvidia-cufft-cu12==11.2.1.3; platform_system == \"Linux\" and platform_machine == \"x86_64\", but you have nvidia-cufft-cu12 11.2.3.61 which is incompatible.\n",
            "torch 2.6.0+cu124 requires nvidia-curand-cu12==10.3.5.147; platform_system == \"Linux\" and platform_machine == \"x86_64\", but you have nvidia-curand-cu12 10.3.6.82 which is incompatible.\n",
            "torch 2.6.0+cu124 requires nvidia-cusolver-cu12==11.6.1.9; platform_system == \"Linux\" and platform_machine == \"x86_64\", but you have nvidia-cusolver-cu12 11.6.3.83 which is incompatible.\n",
            "torch 2.6.0+cu124 requires nvidia-cusparse-cu12==12.3.1.170; platform_system == \"Linux\" and platform_machine == \"x86_64\", but you have nvidia-cusparse-cu12 12.5.1.3 which is incompatible.\n",
            "torch 2.6.0+cu124 requires nvidia-nvjitlink-cu12==12.4.127; platform_system == \"Linux\" and platform_machine == \"x86_64\", but you have nvidia-nvjitlink-cu12 12.5.82 which is incompatible.\u001b[0m\u001b[31m\n",
            "\u001b[0mSuccessfully installed datasets-4.0.0 fsspec-2025.3.0\n",
            "Requirement already satisfied: wandb in /usr/local/lib/python3.11/dist-packages (0.21.0)\n",
            "Requirement already satisfied: click!=8.0.0,>=7.1 in /usr/local/lib/python3.11/dist-packages (from wandb) (8.2.1)\n",
            "Requirement already satisfied: gitpython!=3.1.29,>=1.0.0 in /usr/local/lib/python3.11/dist-packages (from wandb) (3.1.44)\n",
            "Requirement already satisfied: packaging in /usr/local/lib/python3.11/dist-packages (from wandb) (24.2)\n",
            "Requirement already satisfied: platformdirs in /usr/local/lib/python3.11/dist-packages (from wandb) (4.3.8)\n",
            "Requirement already satisfied: protobuf!=4.21.0,!=5.28.0,<7,>=3.19.0 in /usr/local/lib/python3.11/dist-packages (from wandb) (5.29.5)\n",
            "Requirement already satisfied: pydantic<3 in /usr/local/lib/python3.11/dist-packages (from wandb) (2.11.7)\n",
            "Requirement already satisfied: pyyaml in /usr/local/lib/python3.11/dist-packages (from wandb) (6.0.2)\n",
            "Requirement already satisfied: requests<3,>=2.0.0 in /usr/local/lib/python3.11/dist-packages (from wandb) (2.32.3)\n",
            "Requirement already satisfied: sentry-sdk>=2.0.0 in /usr/local/lib/python3.11/dist-packages (from wandb) (2.32.0)\n",
            "Requirement already satisfied: typing-extensions<5,>=4.8 in /usr/local/lib/python3.11/dist-packages (from wandb) (4.14.1)\n",
            "Requirement already satisfied: gitdb<5,>=4.0.1 in /usr/local/lib/python3.11/dist-packages (from gitpython!=3.1.29,>=1.0.0->wandb) (4.0.12)\n",
            "Requirement already satisfied: annotated-types>=0.6.0 in /usr/local/lib/python3.11/dist-packages (from pydantic<3->wandb) (0.7.0)\n",
            "Requirement already satisfied: pydantic-core==2.33.2 in /usr/local/lib/python3.11/dist-packages (from pydantic<3->wandb) (2.33.2)\n",
            "Requirement already satisfied: typing-inspection>=0.4.0 in /usr/local/lib/python3.11/dist-packages (from pydantic<3->wandb) (0.4.1)\n",
            "Requirement already satisfied: charset-normalizer<4,>=2 in /usr/local/lib/python3.11/dist-packages (from requests<3,>=2.0.0->wandb) (3.4.2)\n",
            "Requirement already satisfied: idna<4,>=2.5 in /usr/local/lib/python3.11/dist-packages (from requests<3,>=2.0.0->wandb) (3.10)\n",
            "Requirement already satisfied: urllib3<3,>=1.21.1 in /usr/local/lib/python3.11/dist-packages (from requests<3,>=2.0.0->wandb) (2.4.0)\n",
            "Requirement already satisfied: certifi>=2017.4.17 in /usr/local/lib/python3.11/dist-packages (from requests<3,>=2.0.0->wandb) (2025.7.14)\n",
            "Requirement already satisfied: smmap<6,>=3.0.1 in /usr/local/lib/python3.11/dist-packages (from gitdb<5,>=4.0.1->gitpython!=3.1.29,>=1.0.0->wandb) (5.0.2)\n",
            "Requirement already satisfied: transformers in /usr/local/lib/python3.11/dist-packages (4.53.2)\n",
            "Requirement already satisfied: filelock in /usr/local/lib/python3.11/dist-packages (from transformers) (3.18.0)\n",
            "Requirement already satisfied: huggingface-hub<1.0,>=0.30.0 in /usr/local/lib/python3.11/dist-packages (from transformers) (0.33.4)\n",
            "Requirement already satisfied: numpy>=1.17 in /usr/local/lib/python3.11/dist-packages (from transformers) (2.0.2)\n",
            "Requirement already satisfied: packaging>=20.0 in /usr/local/lib/python3.11/dist-packages (from transformers) (24.2)\n",
            "Requirement already satisfied: pyyaml>=5.1 in /usr/local/lib/python3.11/dist-packages (from transformers) (6.0.2)\n",
            "Requirement already satisfied: regex!=2019.12.17 in /usr/local/lib/python3.11/dist-packages (from transformers) (2024.11.6)\n",
            "Requirement already satisfied: requests in /usr/local/lib/python3.11/dist-packages (from transformers) (2.32.3)\n",
            "Requirement already satisfied: tokenizers<0.22,>=0.21 in /usr/local/lib/python3.11/dist-packages (from transformers) (0.21.2)\n",
            "Requirement already satisfied: safetensors>=0.4.3 in /usr/local/lib/python3.11/dist-packages (from transformers) (0.5.3)\n",
            "Requirement already satisfied: tqdm>=4.27 in /usr/local/lib/python3.11/dist-packages (from transformers) (4.67.1)\n",
            "Requirement already satisfied: fsspec>=2023.5.0 in /usr/local/lib/python3.11/dist-packages (from huggingface-hub<1.0,>=0.30.0->transformers) (2025.3.0)\n",
            "Requirement already satisfied: typing-extensions>=3.7.4.3 in /usr/local/lib/python3.11/dist-packages (from huggingface-hub<1.0,>=0.30.0->transformers) (4.14.1)\n",
            "Requirement already satisfied: hf-xet<2.0.0,>=1.1.2 in /usr/local/lib/python3.11/dist-packages (from huggingface-hub<1.0,>=0.30.0->transformers) (1.1.5)\n",
            "Requirement already satisfied: charset-normalizer<4,>=2 in /usr/local/lib/python3.11/dist-packages (from requests->transformers) (3.4.2)\n",
            "Requirement already satisfied: idna<4,>=2.5 in /usr/local/lib/python3.11/dist-packages (from requests->transformers) (3.10)\n",
            "Requirement already satisfied: urllib3<3,>=1.21.1 in /usr/local/lib/python3.11/dist-packages (from requests->transformers) (2.4.0)\n",
            "Requirement already satisfied: certifi>=2017.4.17 in /usr/local/lib/python3.11/dist-packages (from requests->transformers) (2025.7.14)\n"
          ]
        }
      ]
    },
    {
      "cell_type": "code",
      "source": [
        "import pandas as pd\n",
        "import ast\n",
        "import numpy as np\n",
        "import torch\n",
        "import matplotlib.pyplot as plt\n",
        "import seaborn as sns\n",
        "import torch.nn.functional as F\n",
        "from datasets import Dataset\n",
        "from sklearn.preprocessing import MultiLabelBinarizer\n",
        "from sklearn.metrics import precision_recall_fscore_support, accuracy_score, f1_score, precision_score, recall_score, classification_report\n",
        "import torch.nn as nn\n",
        "from transformers import AutoTokenizer, AutoModelForSequenceClassification, TrainingArguments, Trainer, EarlyStoppingCallback, DataCollatorWithPadding\n",
        "import wandb\n",
        "wandb.login()\n",
        "import os\n",
        "# Keep if you intend to use wandb; remove/set to \"true\" if not.\n",
        "os.environ[\"WANDB_DISABLED\"] = \"false\"\n",
        "\n",
        "print(\"All installations and imports processed.\")"
      ],
      "metadata": {
        "colab": {
          "base_uri": "https://localhost:8080/",
          "height": 211
        },
        "id": "MCrTkSGcdqzo",
        "outputId": "fb94f546-ab08-4d06-ca68-d71efff6c2b2"
      },
      "execution_count": 2,
      "outputs": [
        {
          "output_type": "display_data",
          "data": {
            "text/plain": [
              "<IPython.core.display.Javascript object>"
            ],
            "application/javascript": [
              "\n",
              "        window._wandbApiKey = new Promise((resolve, reject) => {\n",
              "            function loadScript(url) {\n",
              "            return new Promise(function(resolve, reject) {\n",
              "                let newScript = document.createElement(\"script\");\n",
              "                newScript.onerror = reject;\n",
              "                newScript.onload = resolve;\n",
              "                document.body.appendChild(newScript);\n",
              "                newScript.src = url;\n",
              "            });\n",
              "            }\n",
              "            loadScript(\"https://cdn.jsdelivr.net/npm/postmate/build/postmate.min.js\").then(() => {\n",
              "            const iframe = document.createElement('iframe')\n",
              "            iframe.style.cssText = \"width:0;height:0;border:none\"\n",
              "            document.body.appendChild(iframe)\n",
              "            const handshake = new Postmate({\n",
              "                container: iframe,\n",
              "                url: 'https://wandb.ai/authorize'\n",
              "            });\n",
              "            const timeout = setTimeout(() => reject(\"Couldn't auto authenticate\"), 5000)\n",
              "            handshake.then(function(child) {\n",
              "                child.on('authorize', data => {\n",
              "                    clearTimeout(timeout)\n",
              "                    resolve(data)\n",
              "                });\n",
              "            });\n",
              "            })\n",
              "        });\n",
              "    "
            ]
          },
          "metadata": {}
        },
        {
          "output_type": "stream",
          "name": "stderr",
          "text": [
            "\u001b[34m\u001b[1mwandb\u001b[0m: Logging into wandb.ai. (Learn how to deploy a W&B server locally: https://wandb.me/wandb-server)\n",
            "\u001b[34m\u001b[1mwandb\u001b[0m: You can find your API key in your browser here: https://wandb.ai/authorize\n",
            "wandb: Paste an API key from your profile and hit enter:"
          ]
        },
        {
          "name": "stdout",
          "output_type": "stream",
          "text": [
            " ··········\n"
          ]
        },
        {
          "output_type": "stream",
          "name": "stderr",
          "text": [
            "\u001b[34m\u001b[1mwandb\u001b[0m: \u001b[33mWARNING\u001b[0m If you're specifying your api key in code, ensure this code is not shared publicly.\n",
            "\u001b[34m\u001b[1mwandb\u001b[0m: \u001b[33mWARNING\u001b[0m Consider setting the WANDB_API_KEY environment variable, or running `wandb login` from the command line.\n",
            "\u001b[34m\u001b[1mwandb\u001b[0m: No netrc file found, creating one.\n",
            "\u001b[34m\u001b[1mwandb\u001b[0m: Appending key for api.wandb.ai to your netrc file: /root/.netrc\n",
            "\u001b[34m\u001b[1mwandb\u001b[0m: Currently logged in as: \u001b[33mfinnegan-nessa\u001b[0m (\u001b[33mfinnegan-nessa-\u001b[0m) to \u001b[32mhttps://api.wandb.ai\u001b[0m. Use \u001b[1m`wandb login --relogin`\u001b[0m to force relogin\n"
          ]
        },
        {
          "output_type": "stream",
          "name": "stdout",
          "text": [
            "All installations and imports processed.\n"
          ]
        }
      ]
    },
    {
      "cell_type": "code",
      "source": [
        "# Keep if you intend to use\n",
        "from google.colab import drive\n",
        "drive.mount('/content/drive')"
      ],
      "metadata": {
        "colab": {
          "base_uri": "https://localhost:8080/"
        },
        "id": "gVnfC17xds3z",
        "outputId": "9c4368a5-1cf5-4e5b-b75e-b3db67d0dda0"
      },
      "execution_count": 3,
      "outputs": [
        {
          "output_type": "stream",
          "name": "stdout",
          "text": [
            "Mounted at /content/drive\n"
          ]
        }
      ]
    },
    {
      "cell_type": "code",
      "source": [
        "# --- Constants and Mappings ---\n",
        "GOEMOTIONS_LABELS = [\n",
        "    'admiration', 'amusement', 'anger', 'annoyance', 'approval', 'caring', 'confusion',\n",
        "    'curiosity', 'desire', 'disappointment', 'disapproval', 'disgust', 'embarrassment',\n",
        "    'excitement', 'fear', 'gratitude', 'grief', 'joy', 'love', 'nervousness', 'optimism',\n",
        "    'pride', 'realization', 'relief', 'remorse', 'sadness', 'surprise', 'neutral'\n",
        "]\n",
        "\n",
        "GOEMOTIONS_ID_TO_LABEL = {\n",
        "    0: 'admiration', 1: 'amusement', 2: 'anger', 3: 'annoyance', 4: 'approval', 5: 'caring', 6: 'confusion',\n",
        "    7: 'curiosity', 8: 'desire', 9: 'disappointment', 10: 'disapproval', 11: 'disgust', 12: 'embarrassment',\n",
        "    13: 'excitement', 14: 'fear', 15: 'gratitude', 16: 'grief', 17: 'joy', 18: 'love', 19: 'nervousness',\n",
        "    20: 'optimism', 21: 'pride', 22: 'realization', 23: 'relief', 24: 'remorse', 25: 'sadness', 26: 'surprise'\n",
        "}"
      ],
      "metadata": {
        "id": "AfU8GMbdd1k5"
      },
      "execution_count": 4,
      "outputs": []
    },
    {
      "cell_type": "code",
      "source": [
        "# --- Data Parsing and Loading Functions ---\n",
        "def parse_synthetic_emotion_string(emotion_str):\n",
        "    \"\"\"\n",
        "    Parses a string representation of a list of emotions into an actual list.\n",
        "    Handles potential 'neutral' or empty lists, and single string emotions.\n",
        "    \"\"\"\n",
        "    if pd.isna(emotion_str):\n",
        "        return ['neutral']\n",
        "\n",
        "    try:\n",
        "        parsed_list = ast.literal_eval(emotion_str)\n",
        "        if isinstance(parsed_list, list):\n",
        "            return parsed_list if parsed_list else ['neutral']\n",
        "        else:\n",
        "            return [str(parsed_list)] if str(parsed_list).strip() else ['neutral']\n",
        "    except (ValueError, SyntaxError):\n",
        "\n",
        "        if emotion_str.strip():\n",
        "            return [emotion_str.strip()]\n",
        "        else:\n",
        "            return ['neutral']\n"
      ],
      "metadata": {
        "id": "RlhN8GO3GwwK"
      },
      "execution_count": 5,
      "outputs": []
    },
    {
      "cell_type": "code",
      "source": [
        "def load_and_process_go_emotions_split(filepath):\n",
        "\n",
        "    \"\"\"\n",
        "    Loads and processes a GoEmotions TSV split, assigning 'neutral' where no other emotions are found.\n",
        "    \"\"\"\n",
        "    try:\n",
        "        df_split = pd.read_csv(filepath, sep='\\t', encoding='utf-8', header=None, names=['text', 'emotion_ids_str', 'comment_id'])\n",
        "        print(f\"Loaded {filepath.split('/')[-1]}. Initial shape: {df_split.shape}\")\n",
        "        print(f\"Columns in {filepath.split('/')[-1]} after initial load: {df_split.columns.tolist()}\")\n",
        "\n",
        "        df_split['emotion_ids_list'] = df_split['emotion_ids_str'].apply(\n",
        "            lambda x: [int(label_id) for label_id in str(x).split(',') if label_id.strip().isdigit()]\n",
        "        )\n",
        "\n",
        "        df_split['emotion_names_raw'] = df_split['emotion_ids_list'].apply(\n",
        "            lambda ids: [GOEMOTIONS_ID_TO_LABEL[idx] for idx in ids if idx in GOEMOTIONS_ID_TO_LABEL]\n",
        "        )\n",
        "\n",
        "        df_split['emotion'] = df_split['emotion_names_raw'].apply(\n",
        "            lambda x: ['neutral'] if not x else x\n",
        "        )\n",
        "        # Assign 'neutral' where no other emotions are found\n",
        "        df_processed = df_split[['text', 'emotion']].copy()\n",
        "        print(f\"Processed {filepath.split('/')[-1]}. Final shape: {df_processed.shape}\")\n",
        "        return df_processed\n",
        "    except FileNotFoundError:\n",
        "        print(f\"Error: {filepath.split('/')[-1]} not found. Please ensure all 3 GoEmotions TSV files are in the specified Drive path.\")\n",
        "        return pd.DataFrame(columns=['text', 'emotion'])\n",
        "    except Exception as e:\n",
        "        print(f\"An error occurred loading or processing {filepath.split('/')[-1]}: {e}\")\n",
        "        return pd.DataFrame(columns=['text', 'emotion'])"
      ],
      "metadata": {
        "id": "xH-kNQ1UojF5"
      },
      "execution_count": 6,
      "outputs": []
    },
    {
      "cell_type": "code",
      "source": [
        "# --- Data Paths ---\n",
        "# IMPORTANT: Update these paths to where you've stored your data.\n",
        "# These paths are relative to where you run this script.\n",
        "# Ensure your 'data' folder is structured as:\n",
        "# data/\n",
        "# ├── go-emotions/\n",
        "# │   ├── train.tsv\n",
        "# │   ├── dev.tsv\n",
        "# │   └── test.tsv\n",
        "# └── synthetic/\n",
        "#     └── synthetic-emotion-data.csv (or your synthetic data file name)\n",
        "go_emotions_data_path = \"/content/drive/MyDrive/ML_Emotion_Classifier/data/go_emotions/\"\n",
        "go_emotions_train_filepath = f\"{go_emotions_data_path}train.tsv\"\n",
        "go_emotions_dev_filepath = f\"{go_emotions_data_path}dev.tsv\"\n",
        "go_emotions_test_filepath = f\"{go_emotions_data_path}test.tsv\"\n",
        "\n",
        "synthetic_data_filepath = \"/content/drive/MyDrive/ML_Emotion_Classifier/data/synthetic-emotion-data.csv\""
      ],
      "metadata": {
        "id": "3OIEtDtvd8FQ"
      },
      "execution_count": 47,
      "outputs": []
    },
    {
      "cell_type": "code",
      "source": [
        "print(\"--- Loading and processing official GoEmotions splits ---\")\n",
        "df_go_emotions_train = load_and_process_go_emotions_split(go_emotions_train_filepath)\n",
        "print(f\"Shape of df_go_emotions_train after processing: {df_go_emotions_train.shape}\")\n",
        "df_go_emotions_val = load_and_process_go_emotions_split(go_emotions_dev_filepath)\n",
        "df_go_emotions_test = load_and_process_go_emotions_split(go_emotions_test_filepath)\n",
        "print(\"--------------------------------------------------------------------------------\")"
      ],
      "metadata": {
        "colab": {
          "base_uri": "https://localhost:8080/"
        },
        "id": "sit5dzkmd_OJ",
        "outputId": "1e9f1c0e-9300-414a-ddef-bad8bafc07a4"
      },
      "execution_count": 48,
      "outputs": [
        {
          "output_type": "stream",
          "name": "stdout",
          "text": [
            "--- Loading and processing official GoEmotions splits ---\n",
            "Loaded train.tsv. Initial shape: (43410, 3)\n",
            "Columns in train.tsv after initial load: ['text', 'emotion_ids_str', 'comment_id']\n",
            "Processed train.tsv. Final shape: (43410, 2)\n",
            "Shape of df_go_emotions_train after processing: (43410, 2)\n",
            "Loaded dev.tsv. Initial shape: (5426, 3)\n",
            "Columns in dev.tsv after initial load: ['text', 'emotion_ids_str', 'comment_id']\n",
            "Processed dev.tsv. Final shape: (5426, 2)\n",
            "Loaded test.tsv. Initial shape: (5427, 3)\n",
            "Columns in test.tsv after initial load: ['text', 'emotion_ids_str', 'comment_id']\n",
            "Processed test.tsv. Final shape: (5427, 2)\n",
            "--------------------------------------------------------------------------------\n"
          ]
        }
      ]
    },
    {
      "cell_type": "code",
      "source": [
        "# --- Model Save Path ---\n",
        "# IMPORTANT: Update this path to where you want to save your trained model.\n",
        "# This path is relative to where you run this script.\n",
        "MODEL_SAVE_PATH = \"./models/emo-tag/\""
      ],
      "metadata": {
        "id": "BasTurKCHR3f"
      },
      "execution_count": 49,
      "outputs": []
    },
    {
      "cell_type": "code",
      "source": [
        "print(\"\\n--- Loading synthetic data ---\")\n",
        "try:\n",
        "    df_synthetic = pd.read_csv(synthetic_data_filepath)\n",
        "    if 'emotion' in df_synthetic.columns:\n",
        "        df_synthetic['emotion'] = df_synthetic['emotion'].apply(parse_synthetic_emotion_string)\n",
        "        print(f\"Loaded and processed synthetic data. Shape: {df_synthetic.shape}\")\n",
        "    else:\n",
        "        print(f\"Error: 'emotion' column not found in synthetic data file: {synthetic_data_filepath}\")\n",
        "        print(f\"Available columns: {df_synthetic.columns.tolist()}\")\n",
        "        df_synthetic = pd.DataFrame(columns=['text', 'emotion']) # Create empty DF to prevent errors\n",
        "except FileNotFoundError:\n",
        "    print(f\"Error: Synthetic data file not found at {synthetic_data_filepath}. Please check the path.\")\n",
        "    df_synthetic = pd.DataFrame(columns=['text', 'emotion']) # Create empty DF to prevent errors\n",
        "except Exception as e:\n",
        "    print(f\"An error occurred loading or processing synthetic data: {e}\")\n",
        "    df_synthetic = pd.DataFrame(columns=['text', 'emotion']) # Create empty DF to prevent errors\n",
        "\n",
        "print(f\"Shape of df_synthetic after loading/processing: {df_synthetic.shape}\")\n",
        "print(\"--------------------------------------------------------------------------------\")"
      ],
      "metadata": {
        "colab": {
          "base_uri": "https://localhost:8080/"
        },
        "id": "ztbjr9K1eCfj",
        "outputId": "ba571745-e8cb-4b20-a3bd-074079772c87"
      },
      "execution_count": 50,
      "outputs": [
        {
          "output_type": "stream",
          "name": "stdout",
          "text": [
            "\n",
            "--- Loading synthetic data ---\n",
            "Loaded and processed synthetic data. Shape: (20816, 5)\n",
            "Shape of df_synthetic after loading/processing: (20816, 5)\n",
            "--------------------------------------------------------------------------------\n"
          ]
        }
      ]
    },
    {
      "cell_type": "code",
      "source": [
        "# --- Combine Datasets ---\n",
        "print(\"\\n--- Verifying column consistency before combining ---\")\n",
        "print(f\"df_go_emotions_train columns: {df_go_emotions_train.columns.tolist()}\")\n",
        "print(f\"df_synthetic columns: {df_synthetic.columns.tolist()}\")\n",
        "\n",
        "\n",
        "if not df_go_emotions_train.empty and not df_synthetic.empty and \\\n",
        "   'text' in df_go_emotions_train.columns and 'emotion' in df_go_emotions_train.columns and \\\n",
        "   'text' in df_synthetic.columns and 'emotion' in df_synthetic.columns:\n",
        "    print(\"Both GoEmotions train and synthetic dataframes have 'text' and 'emotion' columns.\")\n",
        "else:\n",
        "    print(\"Error: Column names mismatch or dataframes are empty. Check your data loading steps and synthetic data's column names.\")\n",
        "    print(\"Proceeding with potentially empty combined dataframe.\")\n",
        "\n",
        "    train_df = pd.DataFrame(columns=['text', 'emotion'])\n",
        "    val_df = pd.DataFrame(columns=['text', 'emotion'])\n",
        "    test_df = pd.DataFrame(columns=['text', 'emotion'])"
      ],
      "metadata": {
        "colab": {
          "base_uri": "https://localhost:8080/"
        },
        "id": "VXjuVeRKo4nL",
        "outputId": "accf7af9-e7fb-4c9d-baab-5f98d13b802c"
      },
      "execution_count": 51,
      "outputs": [
        {
          "output_type": "stream",
          "name": "stdout",
          "text": [
            "\n",
            "--- Verifying column consistency before combining ---\n",
            "df_go_emotions_train columns: ['text', 'emotion']\n",
            "df_synthetic columns: ['text', 'emotion', 'emotion_label_1', 'emotion_label_2', 'combined_emotions_list']\n",
            "Both GoEmotions train and synthetic dataframes have 'text' and 'emotion' columns.\n"
          ]
        }
      ]
    },
    {
      "cell_type": "code",
      "source": [
        "print(\"\\n--- Combining datasets ---\")\n",
        "if not df_go_emotions_train.empty:\n",
        "    train_df = pd.concat([df_go_emotions_train, df_synthetic], ignore_index=True)\n",
        "else:\n",
        "    print(\"df_go_emotions_train is empty. Cannot combine. Using empty train_df.\")\n",
        "    train_df = pd.DataFrame(columns=['text', 'emotion'])\n",
        "\n",
        "\n",
        "val_df = df_go_emotions_val # Validation set remains official dev data\n",
        "test_df = df_go_emotions_test # Test set remains official test data\n",
        "\n",
        "print(f\"Combined train_df shape: {train_df.shape}\")\n",
        "print(f\"Val_df shape: {val_df.shape}\")\n",
        "print(f\"Test_df shape: {test_df.shape}\")\n",
        "print(\"--------------------------------------------------------------------------------\")"
      ],
      "metadata": {
        "colab": {
          "base_uri": "https://localhost:8080/"
        },
        "id": "OOnXr9OheFc5",
        "outputId": "24285384-92ce-4edb-aecb-12ced736ca52"
      },
      "execution_count": 52,
      "outputs": [
        {
          "output_type": "stream",
          "name": "stdout",
          "text": [
            "\n",
            "--- Combining datasets ---\n",
            "Combined train_df shape: (64226, 5)\n",
            "Val_df shape: (5426, 2)\n",
            "Test_df shape: (5427, 2)\n",
            "--------------------------------------------------------------------------------\n"
          ]
        }
      ]
    },
    {
      "cell_type": "code",
      "source": [
        "# --- Verify the combined dataset's emotion frequencies ---\n",
        "print(\"\\n--- Verifying Combined Train Dataset Emotion Frequencies ---\")\n",
        "mlb = MultiLabelBinarizer(classes=GOEMOTIONS_LABELS)\n",
        "\n",
        "if not train_df.empty:\n",
        "    labels_binary = mlb.fit_transform(train_df['emotion'])\n",
        "\n",
        "    df_labels_binary = pd.DataFrame(labels_binary, columns=mlb.classes_)\n",
        "\n",
        "    combined_train_counts = df_labels_binary.sum().sort_values(ascending=False)\n",
        "\n",
        "    print(\"\\nEmotion Frequencies in the COMBINED TRAIN dataset:\")\n",
        "    print(combined_train_counts)\n",
        "\n",
        "    plt.figure(figsize=(18, 9))\n",
        "    sns.barplot(x=combined_train_counts.index, y=combined_train_counts.values, palette='viridis')\n",
        "    plt.title('Emotion Frequencies: Combined Train Data (GoEmotions + Synthetic)', fontsize=18)\n",
        "    plt.xlabel('Emotion', fontsize=14)\n",
        "    plt.ylabel('Frequency', fontsize=14)\n",
        "    plt.xticks(rotation=45, ha='right', fontsize=10)\n",
        "    plt.yticks(fontsize=10)\n",
        "    plt.grid(axis='y', linestyle='--', alpha=0.7)\n",
        "    plt.tight_layout()\n",
        "    plt.show()\n",
        "else:\n",
        "    print(\"Combined train_df is empty. Cannot calculate and visualize frequencies.\")\n",
        "print(\"--------------------------------------------------------------------------------\")"
      ],
      "metadata": {
        "colab": {
          "base_uri": "https://localhost:8080/",
          "height": 1000
        },
        "id": "JkaOX6P0pCYb",
        "outputId": "b55595a7-45fa-46f0-be21-9a683a51e226"
      },
      "execution_count": 53,
      "outputs": [
        {
          "output_type": "stream",
          "name": "stdout",
          "text": [
            "\n",
            "--- Verifying Combined Train Dataset Emotion Frequencies ---\n",
            "\n",
            "Emotion Frequencies in the COMBINED TRAIN dataset:\n",
            "neutral           12823\n",
            "admiration         4230\n",
            "approval           3034\n",
            "gratitude          2757\n",
            "amusement          2619\n",
            "annoyance          2563\n",
            "curiosity          2387\n",
            "love               2281\n",
            "caring             2265\n",
            "surprise           2230\n",
            "disapproval        2120\n",
            "excitement         2053\n",
            "disgust            1881\n",
            "desire             1834\n",
            "fear               1793\n",
            "optimism           1766\n",
            "anger              1764\n",
            "remorse            1726\n",
            "joy                1643\n",
            "confusion          1555\n",
            "sadness            1523\n",
            "embarrassment      1478\n",
            "disappointment     1450\n",
            "nervousness        1361\n",
            "relief             1339\n",
            "realization        1308\n",
            "pride              1303\n",
            "grief              1271\n",
            "dtype: int64\n"
          ]
        },
        {
          "output_type": "stream",
          "name": "stderr",
          "text": [
            "/usr/local/lib/python3.11/dist-packages/sklearn/preprocessing/_label.py:909: UserWarning: unknown class(es) ['admiration, desire', 'amusement, joy', 'anticipation, excitement', 'approval, relief', 'caring, love', 'caring, relief', 'caring, sadness', 'confusion, curiosity', 'desire, excitement', 'disappointment, annoyance', 'disapproval, anger', 'disgust, annoyance', 'embarrassment, pride', 'embarrassment, sadness', 'fear, surprise', 'frustration, anger', 'gratitude, relief', 'grief, sadness', 'hope, optimism', 'loneliness, sadness', 'nervousness, embarrassment', 'nervousness, excitement', 'nervousness, fear', 'nervousness, grief', 'optimism, joy', 'pride, joy', 'pride, satisfaction', 'realization, surprise', 'relief, joy', 'remorse, sadness', 'shame, sadness'] will be ignored\n",
            "  warnings.warn(\n",
            "/tmp/ipython-input-53-3702937036.py:16: FutureWarning: \n",
            "\n",
            "Passing `palette` without assigning `hue` is deprecated and will be removed in v0.14.0. Assign the `x` variable to `hue` and set `legend=False` for the same effect.\n",
            "\n",
            "  sns.barplot(x=combined_train_counts.index, y=combined_train_counts.values, palette='viridis')\n"
          ]
        },
        {
          "output_type": "display_data",
          "data": {
            "text/plain": [
              "<Figure size 1800x900 with 1 Axes>"
            ],
            "image/png": "[encoded data removed]"
          },
          "metadata": {}
        },
        {
          "output_type": "stream",
          "name": "stdout",
          "text": [
            "--------------------------------------------------------------------------------\n"
          ]
        }
      ]
    },
    {
      "cell_type": "code",
      "source": [
        "# --- Convert to Hugging Face Dataset ---\n",
        "print(\"\\n--- Converting to Hugging Face Dataset ---\")\n",
        "\n",
        "if not val_df.empty:\n",
        "    val_labels_binary = mlb.transform(val_df['emotion'])\n",
        "    val_hf_dataset = Dataset.from_pandas(pd.DataFrame({'text': val_df['text'], 'labels': val_labels_binary.tolist()}))\n",
        "else:\n",
        "    val_hf_dataset = Dataset.from_pandas(pd.DataFrame(columns=['text', 'labels']))\n",
        "\n",
        "if not test_df.empty:\n",
        "    test_labels_binary = mlb.transform(test_df['emotion'])\n",
        "    test_hf_dataset = Dataset.from_pandas(pd.DataFrame({'text': test_df['text'], 'labels': test_labels_binary.tolist()}))\n",
        "else:\n",
        "    test_hf_dataset = Dataset.from_pandas(pd.DataFrame(columns=['text', 'labels']))\n",
        "\n",
        "if not train_df.empty:\n",
        "    train_hf_dataset = Dataset.from_pandas(pd.DataFrame({'text': train_df['text'], 'labels': labels_binary.tolist()}))\n",
        "else:\n",
        "    train_hf_dataset = Dataset.from_pandas(pd.DataFrame(columns=['text', 'labels']))\n",
        "\n",
        "\n",
        "print(\"Hugging Face Datasets created.\")\n",
        "print(f\"train_hf_dataset columns: {train_hf_dataset.column_names}\")\n",
        "print(f\"val_hf_dataset columns: {val_hf_dataset.column_names}\")\n",
        "print(f\"test_hf_dataset columns: {test_hf_dataset.column_names}\")\n",
        "print(\"--------------------------------------------------------------------------------\")"
      ],
      "metadata": {
        "colab": {
          "base_uri": "https://localhost:8080/"
        },
        "id": "LzIh5kdPpGjD",
        "outputId": "f7bb1881-c26e-4d74-b1f4-4195370f3ff9"
      },
      "execution_count": 54,
      "outputs": [
        {
          "output_type": "stream",
          "name": "stdout",
          "text": [
            "\n",
            "--- Converting to Hugging Face Dataset ---\n",
            "Hugging Face Datasets created.\n",
            "train_hf_dataset columns: ['text', 'labels']\n",
            "val_hf_dataset columns: ['text', 'labels']\n",
            "test_hf_dataset columns: ['text', 'labels']\n",
            "--------------------------------------------------------------------------------\n"
          ]
        }
      ]
    },
    {
      "cell_type": "code",
      "source": [
        "# --- Undersampling of 'neutral' Class ---\n",
        "print(\"\\n--- Starting Undersampling of 'neutral' Class ---\")\n",
        "\n",
        "neutral_examples = []\n",
        "other_emotion_examples = []\n",
        "\n",
        "if not train_df.empty:\n",
        "    for index, row in train_df.iterrows():\n",
        "        if len(row['emotion']) == 1 and 'neutral' in row['emotion']:\n",
        "            neutral_examples.append(row)\n",
        "        else:\n",
        "            other_emotion_examples.append(row)\n",
        "\n",
        "    df_neutral_class = pd.DataFrame(neutral_examples)\n",
        "    df_other_emotions_class = pd.DataFrame(other_emotion_examples)\n",
        "\n",
        "    print(f\"Original 'neutral' count in train_df: {len(df_neutral_class)}\")\n",
        "    print(f\"Original other emotions count in train_df: {len(df_other_emotions_class)}\")"
      ],
      "metadata": {
        "colab": {
          "base_uri": "https://localhost:8080/"
        },
        "id": "DhNw5A0PrEJ8",
        "outputId": "bf78c4c3-dbbe-4da8-a0ef-71d65b6742a3"
      },
      "execution_count": 55,
      "outputs": [
        {
          "output_type": "stream",
          "name": "stdout",
          "text": [
            "\n",
            "--- Starting Undersampling of 'neutral' Class ---\n",
            "Original 'neutral' count in train_df: 12823\n",
            "Original other emotions count in train_df: 51403\n"
          ]
        }
      ]
    },
    {
      "cell_type": "code",
      "source": [
        "target_neutral_count = 2750\n",
        "if len(df_neutral_class) > target_neutral_count:\n",
        "    df_neutral_undersampled = df_neutral_class.sample(n=target_neutral_count, random_state=42)\n",
        "    print(f\"Undersampled 'neutral' from {len(df_neutral_class)} to {len(df_neutral_undersampled)} examples.\")\n",
        "else:\n",
        "    df_neutral_undersampled = df_neutral_class\n",
        "    print(f\"'neutral' count ({len(df_neutral_class)}) is already at or below the target ({target_neutral_count}). No undersampling performed.\")\n",
        "\n",
        "train_df_undersampled = pd.concat([df_other_emotions_class, df_neutral_undersampled], ignore_index=True)\n",
        "\n",
        "print(f\"New combined (undersampled) train_df shape: {train_df_undersampled.shape}\")\n",
        "\n",
        "print(\"--- 'neutral' Undersampling Complete ---\")\n",
        "print(\"--------------------------------------------------------------------------------\")"
      ],
      "metadata": {
        "colab": {
          "base_uri": "https://localhost:8080/"
        },
        "id": "FFfqQ78KrIN5",
        "outputId": "6a0473cb-825a-4f8f-d9b9-4085692d589c"
      },
      "execution_count": 56,
      "outputs": [
        {
          "output_type": "stream",
          "name": "stdout",
          "text": [
            "Undersampled 'neutral' from 12823 to 2750 examples.\n",
            "New combined (undersampled) train_df shape: (54153, 5)\n",
            "--- 'neutral' Undersampling Complete ---\n",
            "--------------------------------------------------------------------------------\n"
          ]
        }
      ]
    },
    {
      "cell_type": "code",
      "source": [
        "# --- Verify Undersampled Train Dataset Emotion Frequencies ---\n",
        "print(\"\\n--- Verifying Undersampled Train Dataset Emotion Frequencies ---\")\n",
        "\n",
        "mlb_undersampled = MultiLabelBinarizer(classes=GOEMOTIONS_LABELS)"
      ],
      "metadata": {
        "colab": {
          "base_uri": "https://localhost:8080/"
        },
        "id": "pK6JCkWtrXTE",
        "outputId": "e68fa106-014c-4e68-c697-07f19938b9cc"
      },
      "execution_count": 57,
      "outputs": [
        {
          "output_type": "stream",
          "name": "stdout",
          "text": [
            "\n",
            "--- Verifying Undersampled Train Dataset Emotion Frequencies ---\n"
          ]
        }
      ]
    },
    {
      "cell_type": "code",
      "source": [
        "if not train_df_undersampled.empty:\n",
        "    labels_binary_undersampled = mlb_undersampled.fit_transform(train_df_undersampled['emotion'])\n",
        "\n",
        "    df_labels_binary_undersampled = pd.DataFrame(labels_binary_undersampled, columns=mlb_undersampled.classes_)\n",
        "\n",
        "    combined_train_counts_undersampled = df_labels_binary_undersampled.sum().sort_values(ascending=False)\n",
        "\n",
        "    print(\"\\nEmotion Frequencies in the UNDERSAMPLED TRAIN dataset:\")\n",
        "    print(combined_train_counts_undersampled)\n",
        "\n",
        "    plt.figure(figsize=(18, 9))\n",
        "    sns.barplot(x=combined_train_counts_undersampled.index, y=combined_train_counts_undersampled.values, palette='viridis')\n",
        "    plt.title('Emotion Frequencies: Undersampled Train Data', fontsize=18)\n",
        "    plt.xlabel('Emotion', fontsize=14)\n",
        "    plt.ylabel('Frequency', fontsize=14)\n",
        "    plt.xticks(rotation=45, ha='right', fontsize=10)\n",
        "    plt.yticks(fontsize=10)\n",
        "    plt.grid(axis='y', linestyle='--', alpha=0.7)\n",
        "    plt.tight_layout()\n",
        "    plt.show()\n",
        "else:\n",
        "    print(\"Undersampled train_df is empty. Cannot calculate and visualize frequencies.\")\n",
        "\n",
        "\n",
        "print(\"\\n--- Converting Undersampled Train Dataset to Hugging Face Dataset ---\")\n",
        "print(\"--------------------------------------------------------------------------------\")"
      ],
      "metadata": {
        "colab": {
          "base_uri": "https://localhost:8080/",
          "height": 1000
        },
        "id": "q9MCSIXUrZCD",
        "outputId": "69ba71d1-d378-4b79-8bcf-c80511fe7ba9"
      },
      "execution_count": 58,
      "outputs": [
        {
          "output_type": "stream",
          "name": "stderr",
          "text": [
            "/usr/local/lib/python3.11/dist-packages/sklearn/preprocessing/_label.py:909: UserWarning: unknown class(es) ['admiration, desire', 'amusement, joy', 'anticipation, excitement', 'approval, relief', 'caring, love', 'caring, relief', 'caring, sadness', 'confusion, curiosity', 'desire, excitement', 'disappointment, annoyance', 'disapproval, anger', 'disgust, annoyance', 'embarrassment, pride', 'embarrassment, sadness', 'fear, surprise', 'frustration, anger', 'gratitude, relief', 'grief, sadness', 'hope, optimism', 'loneliness, sadness', 'nervousness, embarrassment', 'nervousness, excitement', 'nervousness, fear', 'nervousness, grief', 'optimism, joy', 'pride, joy', 'pride, satisfaction', 'realization, surprise', 'relief, joy', 'remorse, sadness', 'shame, sadness'] will be ignored\n",
            "  warnings.warn(\n",
            "/tmp/ipython-input-58-2068896080.py:12: FutureWarning: \n",
            "\n",
            "Passing `palette` without assigning `hue` is deprecated and will be removed in v0.14.0. Assign the `x` variable to `hue` and set `legend=False` for the same effect.\n",
            "\n",
            "  sns.barplot(x=combined_train_counts_undersampled.index, y=combined_train_counts_undersampled.values, palette='viridis')\n"
          ]
        },
        {
          "output_type": "stream",
          "name": "stdout",
          "text": [
            "\n",
            "Emotion Frequencies in the UNDERSAMPLED TRAIN dataset:\n",
            "admiration        4230\n",
            "approval          3034\n",
            "gratitude         2757\n",
            "neutral           2750\n",
            "amusement         2619\n",
            "annoyance         2563\n",
            "curiosity         2387\n",
            "love              2281\n",
            "caring            2265\n",
            "surprise          2230\n",
            "disapproval       2120\n",
            "excitement        2053\n",
            "disgust           1881\n",
            "desire            1834\n",
            "fear              1793\n",
            "optimism          1766\n",
            "anger             1764\n",
            "remorse           1726\n",
            "joy               1643\n",
            "confusion         1555\n",
            "sadness           1523\n",
            "embarrassment     1478\n",
            "disappointment    1450\n",
            "nervousness       1361\n",
            "relief            1339\n",
            "realization       1308\n",
            "pride             1303\n",
            "grief             1271\n",
            "dtype: int64\n"
          ]
        },
        {
          "output_type": "display_data",
          "data": {
            "text/plain": [
              "<Figure size 1800x900 with 1 Axes>"
            ],
            "image/png": "[encoded data removed]"
          },
          "metadata": {}
        },
        {
          "output_type": "stream",
          "name": "stdout",
          "text": [
            "\n",
            "--- Converting Undersampled Train Dataset to Hugging Face Dataset ---\n",
            "--------------------------------------------------------------------------------\n"
          ]
        }
      ]
    },
    {
      "cell_type": "code",
      "source": [
        "# --- Convert Undersampled Train Dataset to Hugging Face Dataset ---\n",
        "if not train_df_undersampled.empty:\n",
        "    train_hf_dataset_undersampled = Dataset.from_pandas(\n",
        "        pd.DataFrame({'text': train_df_undersampled['text'], 'labels': labels_binary_undersampled.tolist()})\n",
        "    )\n",
        "    print(f\"train_hf_dataset_undersampled columns: {train_hf_dataset_undersampled.column_names}\")\n",
        "    print(f\"train_hf_dataset_undersampled size: {len(train_hf_dataset_undersampled)}\")\n",
        "else:\n",
        "    train_hf_dataset_undersampled = Dataset.from_pandas(pd.DataFrame(columns=['text', 'labels']))\n",
        "    print(\"train_hf_dataset_undersampled is empty.\")\n",
        "\n",
        "print(\"\\n--- Data Preparation for Training Complete ---\")\n",
        "print(\"--------------------------------------------------------------------------------\")"
      ],
      "metadata": {
        "colab": {
          "base_uri": "https://localhost:8080/"
        },
        "id": "Eh0MfJBqreIV",
        "outputId": "2d3acc71-6a6b-473f-bf81-9133fa41e7dd"
      },
      "execution_count": 59,
      "outputs": [
        {
          "output_type": "stream",
          "name": "stdout",
          "text": [
            "train_hf_dataset_undersampled columns: ['text', 'labels']\n",
            "train_hf_dataset_undersampled size: 54153\n",
            "\n",
            "--- Data Preparation for Training Complete ---\n",
            "--------------------------------------------------------------------------------\n"
          ]
        }
      ]
    },
    {
      "cell_type": "code",
      "source": [
        "# --- Model Initialization ---\n",
        "print(\"\\n--- Initializing Model for Multi-label Classification ---\")\n",
        "\n",
        "model_checkpoint = \"bert-base-uncased\"\n",
        "num_classes = len(GOEMOTIONS_LABELS)\n",
        "model = AutoModelForSequenceClassification.from_pretrained(\n",
        "    model_checkpoint,\n",
        "    num_labels=num_classes,\n",
        "    problem_type=\"multi_label_classification\"\n",
        ")\n",
        "print(f\"Model '{model_checkpoint}' loaded for multi-label classification with {num_classes} labels.\")\n",
        "print(\"--------------------------------------------------------------------------------\")"
      ],
      "metadata": {
        "colab": {
          "base_uri": "https://localhost:8080/",
          "height": 309,
          "referenced_widgets": [
            "0c10884b09be48348d020e2045f04fab",
            "def19ea60f4d411cb22bb1404c796cb9",
            "4934e86644424413a92c1faeb1b7ce54",
            "7c47e530d31f47078edefc49e796c849",
            "271ee843504846e39748c993ca7956ba",
            "d2c380e564a045e888772aac942be184",
            "cb2eb8b87e184b30bca45ac1ca30d7b6",
            "641bc8dd30d5434a9282f516770566c8",
            "87e90a356a3d4877b6746f175ef94995",
            "be6287785845497e8c1ead00f84c9724",
            "de5108c5489a472da2c325acd8fb6e4c",
            "649315ad521b4694b79216fb55b41ef4",
            "c721b9927461497ea1140b8aa1487070",
            "3a1b5f001d4344278f2b027d26b5ff98",
            "68f8e40c214c4c44bcb7e760f01c1dcf",
            "945d1dbf051f4bf0bf77401f4ac1e4a4",
            "445fe872ecf84282bc96f4a1946eb90b",
            "2d51f6411b244091bb898f8567c3996a",
            "e4670c164bba4c4a91169969248294db",
            "296dfbab8ec1452b8c434c04394de664",
            "ed41e89ac7044e8b9a16d3f9484cf771",
            "e6423c9c294c4d3aa182f842628f106d"
          ]
        },
        "id": "9wfBW2_2RElm",
        "outputId": "482aca02-4159-4fb2-cf24-972e571890af"
      },
      "execution_count": 60,
      "outputs": [
        {
          "output_type": "stream",
          "name": "stdout",
          "text": [
            "\n",
            "--- Initializing Model for Multi-label Classification ---\n"
          ]
        },
        {
          "output_type": "stream",
          "name": "stderr",
          "text": [
            "/usr/local/lib/python3.11/dist-packages/huggingface_hub/utils/_auth.py:94: UserWarning: \n",
            "The secret `HF_TOKEN` does not exist in your Colab secrets.\n",
            "To authenticate with the Hugging Face Hub, create a token in your settings tab (https://huggingface.co/settings/tokens), set it as secret in your Google Colab and restart your session.\n",
            "You will be able to reuse this secret in all of your notebooks.\n",
            "Please note that authentication is recommended but still optional to access public models or datasets.\n",
            "  warnings.warn(\n"
          ]
        },
        {
          "output_type": "display_data",
          "data": {
            "text/plain": [
              "config.json:   0%|          | 0.00/570 [00:00<?, ?B/s]"
            ],
            "application/vnd.jupyter.widget-view+json": {
              "version_major": 2,
              "version_minor": 0,
              "model_id": "0c10884b09be48348d020e2045f04fab"
            }
          },
          "metadata": {}
        },
        {
          "output_type": "display_data",
          "data": {
            "text/plain": [
              "model.safetensors:   0%|          | 0.00/440M [00:00<?, ?B/s]"
            ],
            "application/vnd.jupyter.widget-view+json": {
              "version_major": 2,
              "version_minor": 0,
              "model_id": "649315ad521b4694b79216fb55b41ef4"
            }
          },
          "metadata": {}
        },
        {
          "output_type": "stream",
          "name": "stderr",
          "text": [
            "Some weights of BertForSequenceClassification were not initialized from the model checkpoint at bert-base-uncased and are newly initialized: ['classifier.bias', 'classifier.weight']\n",
            "You should probably TRAIN this model on a down-stream task to be able to use it for predictions and inference.\n"
          ]
        },
        {
          "output_type": "stream",
          "name": "stdout",
          "text": [
            "Model 'bert-base-uncased' loaded for multi-label classification with 28 labels.\n",
            "--------------------------------------------------------------------------------\n"
          ]
        }
      ]
    },
    {
      "cell_type": "code",
      "source": [
        "# --- Custom Loss Function (Focal Loss) ---\n",
        "def focal_loss_with_logits(inputs, targets, alpha=0.25, gamma=2.0, pos_weight=None):\n",
        "    bce_loss = F.binary_cross_entropy_with_logits(inputs, targets, reduction='none', pos_weight=pos_weight)\n",
        "    prob = torch.sigmoid(inputs)\n",
        "    p_t = prob * targets + (1 - prob) * (1 - targets)\n",
        "    alpha_t = alpha * targets + (1 - alpha) * (1 - targets)\n",
        "    focal_term = (1 - p_t) ** gamma\n",
        "    loss = alpha_t * focal_term * bce_loss\n",
        "    return loss.mean()\n",
        "print(\"Focal Loss function 'focal_loss_with_logits' defined.\")\n",
        "print(\"--------------------------------------------------------------------------------\")"
      ],
      "metadata": {
        "id": "gqIrMWDQRKCJ",
        "colab": {
          "base_uri": "https://localhost:8080/"
        },
        "outputId": "26206565-df0d-4a33-d3f4-0e5ca6490904"
      },
      "execution_count": 61,
      "outputs": [
        {
          "output_type": "stream",
          "name": "stdout",
          "text": [
            "Focal Loss function 'focal_loss_with_logits' defined.\n",
            "--------------------------------------------------------------------------------\n"
          ]
        }
      ]
    },
    {
      "cell_type": "code",
      "source": [
        "# --- Custom Trainer for Loss Function Integration ---\n",
        "class CustomTrainer(Trainer):\n",
        "    def __init__(self, *args, loss_weights=None, focal_alpha=0.25, focal_gamma=2.0, **kwargs):\n",
        "        super().__init__(*args, **kwargs)\n",
        "        self.loss_weights = loss_weights\n",
        "        self.focal_alpha = focal_alpha\n",
        "        self.focal_gamma = focal_gamma\n",
        "        super().__init__(*args, **kwargs)\n",
        "        self.loss_weights = loss_weights\n",
        "\n",
        "    def compute_loss(self, model, inputs, return_outputs=False, num_items_in_batch=None):\n",
        "        labels = inputs.pop(\"labels\")\n",
        "        outputs = model(**inputs)\n",
        "        logits = outputs.get(\"logits\")\n",
        "\n",
        "        weights_on_device = self.loss_weights.to(logits.device)\n",
        "        loss = focal_loss_with_logits(\n",
        "            inputs=logits,\n",
        "            targets=labels.float(),\n",
        "            alpha=self.focal_alpha,\n",
        "            gamma=self.focal_gamma,\n",
        "            pos_weight=weights_on_device\n",
        "        )\n",
        "\n",
        "        return (loss, outputs) if return_outputs else loss\n",
        "\n",
        "print(f\"Model '{model_checkpoint}' loaded for multi-label classification with {num_classes} labels.\")\n",
        "print(\"A CustomTrainer is defined to incorporate class weighting into the loss function.\")\n",
        "print(\"-----------------------------------------\")"
      ],
      "metadata": {
        "colab": {
          "base_uri": "https://localhost:8080/"
        },
        "id": "stq7txcoyH9z",
        "outputId": "553246b9-4531-4020-a9cc-c20413367833"
      },
      "execution_count": 62,
      "outputs": [
        {
          "output_type": "stream",
          "name": "stdout",
          "text": [
            "Model 'bert-base-uncased' loaded for multi-label classification with 28 labels.\n",
            "A CustomTrainer is defined to incorporate class weighting into the loss function.\n",
            "-----------------------------------------\n"
          ]
        }
      ]
    },
    {
      "cell_type": "code",
      "source": [
        "# --- Tokenizer and Dataset Tokenization ---\n",
        "print(\"\\n--- Initializing Tokenizer and Tokenizing Datasets ---\")\n",
        "tokenizer = AutoTokenizer.from_pretrained(model_checkpoint)\n",
        "\n",
        "def tokenize_function(examples):\n",
        "    if 'text' not in examples:\n",
        "        raise ValueError(\"The 'text' column is missing from the dataset examples.\")\n",
        "    return tokenizer(examples[\"text\"], truncation=True, padding=\"max_length\", max_length=256)\n",
        "\n",
        "print(\"Tokenizing train dataset...\")\n",
        "tokenized_train_dataset = train_hf_dataset_undersampled.map(tokenize_function, batched=True)\n",
        "print(\"Tokenizing validation dataset...\")\n",
        "tokenized_val_dataset = val_hf_dataset.map(tokenize_function, batched=True)\n",
        "print(\"Tokenizing test dataset...\")\n",
        "tokenized_test_dataset = test_hf_dataset.map(tokenize_function, batched=True)\n",
        "\n",
        "tokenized_train_dataset = tokenized_train_dataset.remove_columns(['text'])\n",
        "tokenized_val_dataset = tokenized_val_dataset.remove_columns(['text'])\n",
        "tokenized_test_dataset = tokenized_test_dataset.remove_columns(['text'])\n",
        "\n",
        "tokenized_train_dataset.set_format(\"torch\")\n",
        "tokenized_val_dataset.set_format(\"torch\")\n",
        "tokenized_test_dataset.set_format(\"torch\")\n",
        "\n",
        "print(\"Datasets tokenized and formatted for PyTorch.\")\n",
        "print(f\"Tokenized train dataset features: {tokenized_train_dataset.column_names}\")\n",
        "print(f\"Tokenized val dataset features: {tokenized_val_dataset.column_names}\")\n",
        "print(f\"Tokenized test dataset features: {tokenized_test_dataset.column_names}\")\n",
        "print(\"-----------------------------------------\")"
      ],
      "metadata": {
        "colab": {
          "base_uri": "https://localhost:8080/",
          "height": 403,
          "referenced_widgets": [
            "74c8c51ed77b4c148e37c022df7a1f9b",
            "701f8c99070946d78c813119ce64eafa",
            "c4d8e1331bed47519fa4a34ed8b3cb3b",
            "c03cddda89d848c0ad90a9ab20fc7a98",
            "14cb3dc5e903429a93ea8f3c128bb80b",
            "791cac2a3cd041fdb87ec634efbd052a",
            "a7f67f4b2e4e4f76ac36c863d756ea14",
            "ccaae0cfc6cc4999bff81ecddf2ced82",
            "1d20d23fa74b4703992cb3c68953a4c3",
            "a925b6d0f45e4c2fa501974de3cc35cb",
            "8194df282c6547108293d6f72ca737b2",
            "cc9328641ef044ce8a19bf671bd2fbbf",
            "a36acdfcfcd242a598d42e2ed215ac83",
            "a2f9c4dec6d64b56844fa583531d0834",
            "019a0b9b004b41f189ae8234915d2f6a",
            "5dcc01e8759b49a990efe8121c4adc22",
            "508ec361fcb343c4b390aafab067311f",
            "0b57fc47675a47eca09ac1380e1e0cf3",
            "9ea1762a194d4695ae8597a4392785bc",
            "0d88ecd883fb48c4ba8dfe272aeb0c44",
            "e6e25167c2844e978e46079a8bb6a0b3",
            "8938da0a66cc4e06a1f29d689ef5a3b3",
            "a58452bd3f4d47a1b8546b041271bc91",
            "d055a9b842264d1cb7729606377cdeb3",
            "88eb531082ec4ff6907b98ae331c5154",
            "dce94264607d4fc6b5da9bd77a7ba707",
            "856f9221435148ae9533a049da7c1e8e",
            "cecaad4fe1774e74876af27013cfdf2c",
            "b3c6f6f6901f4461b118a0cd57a5dd79",
            "2e0ed1ee929f44a2a087854e62b68a8e",
            "9343836b7381446bb2c171273c808b0c",
            "62a6c0070ff44b92a18c8db342b36dfe",
            "5512ef6d023c472b908640786e22079c",
            "c4af72e6ba10461b816949937171dfe4",
            "2dc6388d34bf4df798976fca16fb1c95",
            "9680489a482f40a48636112d312ba2b9",
            "964cf5ee96bd4f749d435e519897fad3",
            "8ca1338047bd4534b7fa122fbfb385c3",
            "2306e9e6bf3e426a9f2998cff21d617a",
            "47abe26408c1412b88f521805b87658c",
            "37a766de1b3142dcabc05052928eaeca",
            "665a4e4535ce4af1a4ddbd7c3141255c",
            "cd9a8d28beb34c23b1160f6dac36c06d",
            "d7158f2ed70a48a8aa4b1f25113e0b67",
            "ac3eb6614fdc40e7a1997428100159d9",
            "98ccaf59e52a47959b72acdc748962f4",
            "7cc83309e808454cb817647e1736824b",
            "9e1b59629c2248a98b79abb8bc90bb64",
            "f4797762b8b5460f85ce431e396dfcf2",
            "c77d642a0b064502bdb24ca454ff8c12",
            "df8e7dfe1f6b4fdcb03279afb0c809f2",
            "432e9dbcdbe74bbf8f10e066f7f21825",
            "96bebf9457374b9aacadf98948d826fc",
            "68f2b8b00791462fb6baf103cdca72b0",
            "fd2e04c9c03a49e28e1bd40ec20c93bf",
            "72e2f4871d454049bb84260b86a9da2a",
            "ac4dd0d4695f4a68bec568a7267feed1",
            "e36dd2600e5f42cbacb845949c6e5b9e",
            "c579b7cc64454607ab61c1fa92ec8b5e",
            "77e5fbc3b4b749ec85c9220d12abbed5",
            "6e6f247bf6fa405daacd16e3c76fd5ea",
            "b972f586a48d48efb4646e87c9e7ae69",
            "45e6e7707b514084a0f024794e382d40",
            "fd381021a56d432b8b95e6f3156aaf26",
            "ee26b24e8b624a72a2fac944c420372b",
            "383add8740cc4db886cc479ebb92e3e4"
          ]
        },
        "id": "S2WXX63PyDV4",
        "outputId": "0916386d-bedc-40d0-d833-2482f594be90"
      },
      "execution_count": 63,
      "outputs": [
        {
          "output_type": "stream",
          "name": "stdout",
          "text": [
            "\n",
            "--- Initializing Tokenizer and Tokenizing Datasets ---\n"
          ]
        },
        {
          "output_type": "display_data",
          "data": {
            "text/plain": [
              "tokenizer_config.json:   0%|          | 0.00/48.0 [00:00<?, ?B/s]"
            ],
            "application/vnd.jupyter.widget-view+json": {
              "version_major": 2,
              "version_minor": 0,
              "model_id": "74c8c51ed77b4c148e37c022df7a1f9b"
            }
          },
          "metadata": {}
        },
        {
          "output_type": "display_data",
          "data": {
            "text/plain": [
              "vocab.txt:   0%|          | 0.00/232k [00:00<?, ?B/s]"
            ],
            "application/vnd.jupyter.widget-view+json": {
              "version_major": 2,
              "version_minor": 0,
              "model_id": "cc9328641ef044ce8a19bf671bd2fbbf"
            }
          },
          "metadata": {}
        },
        {
          "output_type": "display_data",
          "data": {
            "text/plain": [
              "tokenizer.json:   0%|          | 0.00/466k [00:00<?, ?B/s]"
            ],
            "application/vnd.jupyter.widget-view+json": {
              "version_major": 2,
              "version_minor": 0,
              "model_id": "a58452bd3f4d47a1b8546b041271bc91"
            }
          },
          "metadata": {}
        },
        {
          "output_type": "stream",
          "name": "stdout",
          "text": [
            "Tokenizing train dataset...\n"
          ]
        },
        {
          "output_type": "display_data",
          "data": {
            "text/plain": [
              "Map:   0%|          | 0/54153 [00:00<?, ? examples/s]"
            ],
            "application/vnd.jupyter.widget-view+json": {
              "version_major": 2,
              "version_minor": 0,
              "model_id": "c4af72e6ba10461b816949937171dfe4"
            }
          },
          "metadata": {}
        },
        {
          "output_type": "stream",
          "name": "stdout",
          "text": [
            "Tokenizing validation dataset...\n"
          ]
        },
        {
          "output_type": "display_data",
          "data": {
            "text/plain": [
              "Map:   0%|          | 0/5426 [00:00<?, ? examples/s]"
            ],
            "application/vnd.jupyter.widget-view+json": {
              "version_major": 2,
              "version_minor": 0,
              "model_id": "ac3eb6614fdc40e7a1997428100159d9"
            }
          },
          "metadata": {}
        },
        {
          "output_type": "stream",
          "name": "stdout",
          "text": [
            "Tokenizing test dataset...\n"
          ]
        },
        {
          "output_type": "display_data",
          "data": {
            "text/plain": [
              "Map:   0%|          | 0/5427 [00:00<?, ? examples/s]"
            ],
            "application/vnd.jupyter.widget-view+json": {
              "version_major": 2,
              "version_minor": 0,
              "model_id": "72e2f4871d454049bb84260b86a9da2a"
            }
          },
          "metadata": {}
        },
        {
          "output_type": "stream",
          "name": "stdout",
          "text": [
            "Datasets tokenized and formatted for PyTorch.\n",
            "Tokenized train dataset features: ['labels', 'input_ids', 'token_type_ids', 'attention_mask']\n",
            "Tokenized val dataset features: ['labels', 'input_ids', 'token_type_ids', 'attention_mask']\n",
            "Tokenized test dataset features: ['labels', 'input_ids', 'token_type_ids', 'attention_mask']\n",
            "-----------------------------------------\n"
          ]
        }
      ]
    },
    {
      "cell_type": "code",
      "source": [
        "# --- Calculate Class Weights ---\n",
        "print(\"\\n--- Calculating Class Weights ---\")\n",
        "labels_array = np.array(train_hf_dataset_undersampled['labels'])\n",
        "label_counts = np.sum(labels_array, axis=0)\n",
        "epsilon = 1e-6\n",
        "total_samples_in_train = len(train_hf_dataset_undersampled)\n",
        "num_classes = len(GOEMOTIONS_LABELS)\n",
        "\n",
        "weights = np.zeros(num_classes)\n",
        "for i, count in enumerate(label_counts):\n",
        "    weights[i] = total_samples_in_train / (num_classes * (count + epsilon))\n",
        "\n",
        "class_weights_tensor = torch.tensor(weights, dtype=torch.float)\n",
        "\n",
        "print(\"Class Frequencies (from undersampled train_hf_dataset_undersampled):\")\n",
        "for i, label in enumerate(GOEMOTIONS_LABELS):\n",
        "    print(f\"- {label}: {label_counts[i]} (Calculated Weight: {class_weights_tensor[i]:.2f})\")\n",
        "\n",
        "print(\"-----------------------------------------\")"
      ],
      "metadata": {
        "colab": {
          "base_uri": "https://localhost:8080/"
        },
        "id": "M0OGJV51x-6A",
        "outputId": "ebd2cf57-c762-41c3-bb71-b7bff5d8fd7f"
      },
      "execution_count": 64,
      "outputs": [
        {
          "output_type": "stream",
          "name": "stdout",
          "text": [
            "\n",
            "--- Calculating Class Weights ---\n",
            "Class Frequencies (from undersampled train_hf_dataset_undersampled):\n",
            "- admiration: 4230 (Calculated Weight: 0.46)\n",
            "- amusement: 2619 (Calculated Weight: 0.74)\n",
            "- anger: 1764 (Calculated Weight: 1.10)\n",
            "- annoyance: 2563 (Calculated Weight: 0.75)\n",
            "- approval: 3034 (Calculated Weight: 0.64)\n",
            "- caring: 2265 (Calculated Weight: 0.85)\n",
            "- confusion: 1555 (Calculated Weight: 1.24)\n",
            "- curiosity: 2387 (Calculated Weight: 0.81)\n",
            "- desire: 1834 (Calculated Weight: 1.05)\n",
            "- disappointment: 1450 (Calculated Weight: 1.33)\n",
            "- disapproval: 2120 (Calculated Weight: 0.91)\n",
            "- disgust: 1881 (Calculated Weight: 1.03)\n",
            "- embarrassment: 1478 (Calculated Weight: 1.31)\n",
            "- excitement: 2053 (Calculated Weight: 0.94)\n",
            "- fear: 1793 (Calculated Weight: 1.08)\n",
            "- gratitude: 2757 (Calculated Weight: 0.70)\n",
            "- grief: 1271 (Calculated Weight: 1.52)\n",
            "- joy: 1643 (Calculated Weight: 1.18)\n",
            "- love: 2281 (Calculated Weight: 0.85)\n",
            "- nervousness: 1361 (Calculated Weight: 1.42)\n",
            "- optimism: 1766 (Calculated Weight: 1.10)\n",
            "- pride: 1303 (Calculated Weight: 1.48)\n",
            "- realization: 1308 (Calculated Weight: 1.48)\n",
            "- relief: 1339 (Calculated Weight: 1.44)\n",
            "- remorse: 1726 (Calculated Weight: 1.12)\n",
            "- sadness: 1523 (Calculated Weight: 1.27)\n",
            "- surprise: 2230 (Calculated Weight: 0.87)\n",
            "- neutral: 2750 (Calculated Weight: 0.70)\n",
            "-----------------------------------------\n"
          ]
        }
      ]
    },
    {
      "cell_type": "code",
      "source": [
        "# --- Define Evaluation Metrics ---\n",
        "print(\"\\n--- Defining Evaluation Metrics ---\")\n",
        "\n",
        "def compute_metrics(p):\n",
        "    predictions = p.predictions[0] if isinstance(p.predictions, tuple) else p.predictions\n",
        "    labels = p.label_ids\n",
        "    probabilities = 1 / (1 + np.exp(-predictions))\n",
        "    binary_predictions = (probabilities > 0.5).astype(int)\n",
        "    macro_f1 = f1_score(labels, binary_predictions, average='macro', zero_division=0)\n",
        "    macro_precision = precision_score(labels, binary_predictions, average='macro', zero_division=0)\n",
        "    macro_recall = recall_score(labels, binary_predictions, average='macro', zero_division=0)\n",
        "\n",
        "    micro_f1 = f1_score(labels, binary_predictions, average='micro', zero_division=0)\n",
        "    micro_precision = precision_score(labels, binary_predictions, average='micro', zero_division=0)\n",
        "    micro_recall = recall_score(labels, binary_predictions, average='micro', zero_division=0)\n",
        "\n",
        "    return {\n",
        "        \"f1_macro\": macro_f1,\n",
        "        \"precision_macro\": macro_precision,\n",
        "        \"recall_macro\": macro_recall,\n",
        "        \"f1_micro\": micro_f1,\n",
        "        \"precision_micro\": micro_precision,\n",
        "        \"recall_micro\": micro_recall,\n",
        "    }\n",
        "\n",
        "print(\"Compute metrics function 'compute_metrics' defined (focusing on macro averages).\")\n",
        "print(\"-----------------------------------------\")"
      ],
      "metadata": {
        "colab": {
          "base_uri": "https://localhost:8080/"
        },
        "id": "uxUJQVuPyMBj",
        "outputId": "d9397c3c-ed4d-4db9-8433-19fc93232c8e"
      },
      "execution_count": 65,
      "outputs": [
        {
          "output_type": "stream",
          "name": "stdout",
          "text": [
            "\n",
            "--- Defining Evaluation Metrics ---\n",
            "Compute metrics function 'compute_metrics' defined (focusing on macro averages).\n",
            "-----------------------------------------\n"
          ]
        }
      ]
    },
    {
      "cell_type": "code",
      "source": [
        "# --- Training Arguments ---\n",
        "print(\"\\n--- Setting up Training Arguments ---\")\n",
        "training_args = TrainingArguments(\n",
        "    output_dir=\"./results/goemotions_model_v2\",\n",
        "    num_train_epochs=6,\n",
        "    per_device_train_batch_size=32,\n",
        "    per_device_eval_batch_size=32,\n",
        "    learning_rate=2e-5,\n",
        "    warmup_steps=500,\n",
        "    weight_decay=0.02,\n",
        "    logging_dir=\"./logs\",\n",
        "    logging_steps=100,\n",
        "    eval_strategy=\"epoch\",\n",
        "    save_strategy=\"epoch\",\n",
        "    load_best_model_at_end=True,\n",
        "    metric_for_best_model=\"f1_macro\",\n",
        "    greater_is_better=True,\n",
        "    dataloader_num_workers=2,\n",
        "    report_to=\"wandb\",\n",
        "    fp16=torch.cuda.is_available(),\n",
        ")\n",
        "\n",
        "print(\"Training arguments defined.\")\n",
        "print(\"-----------------------------------------\")"
      ],
      "metadata": {
        "colab": {
          "base_uri": "https://localhost:8080/"
        },
        "id": "uHU-YIBTyPWH",
        "outputId": "63d075cb-8739-4bb2-f8c6-6c4a53a5703a"
      },
      "execution_count": 67,
      "outputs": [
        {
          "output_type": "stream",
          "name": "stdout",
          "text": [
            "\n",
            "--- Setting up Training Arguments ---\n",
            "Training arguments defined.\n",
            "-----------------------------------------\n"
          ]
        }
      ]
    },
    {
      "cell_type": "code",
      "source": [
        "# --- Trainer Initialization and Training ---\n",
        "early_stopping_callback = EarlyStoppingCallback(\n",
        "    early_stopping_patience=3,\n",
        "    early_stopping_threshold=0.001\n",
        ")\n",
        "data_collator = DataCollatorWithPadding(tokenizer=tokenizer)"
      ],
      "metadata": {
        "id": "dZZV9Hrgoc9c"
      },
      "execution_count": 68,
      "outputs": []
    },
    {
      "cell_type": "code",
      "source": [
        "trainer = CustomTrainer(\n",
        "    model=model,\n",
        "    args=training_args,\n",
        "    train_dataset=tokenized_train_dataset,\n",
        "    eval_dataset=tokenized_val_dataset,\n",
        "    compute_metrics=compute_metrics,\n",
        "    data_collator=data_collator,\n",
        "    loss_weights=class_weights_tensor,\n",
        "    focal_alpha=0.25,\n",
        "    focal_gamma=2.0,\n",
        "    callbacks=[early_stopping_callback],\n",
        ")"
      ],
      "metadata": {
        "id": "CzBM4tLczxrP"
      },
      "execution_count": 69,
      "outputs": []
    },
    {
      "cell_type": "code",
      "source": [
        "trainer.train()\n",
        "\n",
        "print(\"\\n--- Training Complete ---\")\n",
        "print(\"-----------------------------------------\")"
      ],
      "metadata": {
        "colab": {
          "base_uri": "https://localhost:8080/",
          "height": 353
        },
        "id": "xVDWqKskzzCX",
        "outputId": "bd745e27-d89b-4bea-b149-745f64b3faa3"
      },
      "execution_count": 70,
      "outputs": [
        {
          "output_type": "stream",
          "name": "stderr",
          "text": [
            "\u001b[34m\u001b[1mwandb\u001b[0m: \u001b[33mWARNING\u001b[0m The `run_name` is currently set to the same value as `TrainingArguments.output_dir`. If this was not intended, please specify a different run name by setting the `TrainingArguments.run_name` parameter.\n"
          ]
        },
        {
          "output_type": "display_data",
          "data": {
            "text/plain": [
              "<IPython.core.display.HTML object>"
            ],
            "text/html": [
              "Changes to your `wandb` environment variables will be ignored because your `wandb` session has already started. For more information on how to modify your settings with `wandb.init()` arguments, please refer to <a href='https://wandb.me/wandb-init' target=\"_blank\">the W&B docs</a>."
            ]
          },
          "metadata": {}
        },
        {
          "output_type": "display_data",
          "data": {
            "text/plain": [
              "<IPython.core.display.HTML object>"
            ],
            "text/html": [
              "Tracking run with wandb version 0.21.0"
            ]
          },
          "metadata": {}
        },
        {
          "output_type": "display_data",
          "data": {
            "text/plain": [
              "<IPython.core.display.HTML object>"
            ],
            "text/html": [
              "Run data is saved locally in <code>/content/wandb/run-20250717_111415-jbzda2x2</code>"
            ]
          },
          "metadata": {}
        },
        {
          "output_type": "display_data",
          "data": {
            "text/plain": [
              "<IPython.core.display.HTML object>"
            ],
            "text/html": [
              "Syncing run <strong><a href='https://wandb.ai/finnegan-nessa-/huggingface/runs/jbzda2x2' target=\"_blank\">./results/goemotions_model_v2</a></strong> to <a href='https://wandb.ai/finnegan-nessa-/huggingface' target=\"_blank\">Weights & Biases</a> (<a href='https://wandb.me/developer-guide' target=\"_blank\">docs</a>)<br>"
            ]
          },
          "metadata": {}
        },
        {
          "output_type": "display_data",
          "data": {
            "text/plain": [
              "<IPython.core.display.HTML object>"
            ],
            "text/html": [
              " View project at <a href='https://wandb.ai/finnegan-nessa-/huggingface' target=\"_blank\">https://wandb.ai/finnegan-nessa-/huggingface</a>"
            ]
          },
          "metadata": {}
        },
        {
          "output_type": "display_data",
          "data": {
            "text/plain": [
              "<IPython.core.display.HTML object>"
            ],
            "text/html": [
              " View run at <a href='https://wandb.ai/finnegan-nessa-/huggingface/runs/jbzda2x2' target=\"_blank\">https://wandb.ai/finnegan-nessa-/huggingface/runs/jbzda2x2</a>"
            ]
          },
          "metadata": {}
        },
        {
          "output_type": "display_data",
          "data": {
            "text/plain": [
              "<IPython.core.display.HTML object>"
            ],
            "text/html": [
              "\n",
              "    <div>\n",
              "      \n",
              "      <progress value='1693' max='1693' style='width:300px; height:20px; vertical-align: middle;'></progress>\n",
              "      [1693/1693 10:42, Epoch 1/1]\n",
              "    </div>\n",
              "    <table border=\"1\" class=\"dataframe\">\n",
              "  <thead>\n",
              " <tr style=\"text-align: left;\">\n",
              "      <th>Epoch</th>\n",
              "      <th>Training Loss</th>\n",
              "      <th>Validation Loss</th>\n",
              "      <th>F1 Macro</th>\n",
              "      <th>Precision Macro</th>\n",
              "      <th>Recall Macro</th>\n",
              "      <th>F1 Micro</th>\n",
              "      <th>Precision Micro</th>\n",
              "      <th>Recall Micro</th>\n",
              "    </tr>\n",
              "  </thead>\n",
              "  <tbody>\n",
              "    <tr>\n",
              "      <td>1</td>\n",
              "      <td>0.009100</td>\n",
              "      <td>0.009928</td>\n",
              "      <td>0.060413</td>\n",
              "      <td>0.231887</td>\n",
              "      <td>0.041921</td>\n",
              "      <td>0.092374</td>\n",
              "      <td>0.967846</td>\n",
              "      <td>0.048501</td>\n",
              "    </tr>\n",
              "  </tbody>\n",
              "</table><p>"
            ]
          },
          "metadata": {}
        },
        {
          "output_type": "stream",
          "name": "stdout",
          "text": [
            "\n",
            "--- Training Complete ---\n",
            "-----------------------------------------\n"
          ]
        }
      ]
    },
    {
      "cell_type": "code",
      "source": [
        "# ---Validation Predictions for Threshold Analysis---\n",
        "print(\"\\n--- Obtaining Validation Predictions for Threshold Analysis ---\")\n",
        "\n",
        "val_predictions_output = trainer.predict(tokenized_val_dataset)\n",
        "val_logits = val_predictions_output.predictions\n",
        "val_true = val_predictions_output.label_ids\n",
        "val_probs = 1 / (1 + np.exp(-val_logits))\n",
        "\n",
        "print(\"Validation predictions obtained for threshold analysis.\")\n",
        "\n",
        "thresholds = np.arange(0.05, 0.96, 0.05)\n",
        "\n",
        "macro_f1_scores = []\n",
        "micro_f1_scores = []\n",
        "macro_precision_scores = []\n",
        "micro_precision_scores = []\n",
        "macro_recall_scores = []\n",
        "micro_recall_scores = []\n",
        "\n",
        "print(\"Threshold | Macro F1 | Micro F1 | Macro P  | Micro P  | Macro R  | Micro R\")\n",
        "print(\"-\" * 70)\n",
        "\n",
        "for t in thresholds:\n",
        "    val_preds = (val_probs > t).astype(int)\n",
        "\n",
        "    micro_f1 = f1_score(val_true, val_preds, average='micro', zero_division=0)\n",
        "    macro_f1 = f1_score(val_true, val_preds, average='macro', zero_division=0)\n",
        "    micro_p = precision_score(val_true, val_preds, average='micro', zero_division=0)\n",
        "    macro_p = precision_score(val_true, val_preds, average='macro', zero_division=0)\n",
        "    micro_r = recall_score(val_true, val_preds, average='micro', zero_division=0)\n",
        "    macro_r = recall_score(val_true, val_preds, average='macro', zero_division=0)\n",
        "\n",
        "    macro_f1_scores.append(macro_f1)\n",
        "    micro_f1_scores.append(micro_f1)\n",
        "    macro_precision_scores.append(macro_p)\n",
        "    micro_precision_scores.append(micro_p)\n",
        "    macro_recall_scores.append(macro_r)\n",
        "    micro_recall_scores.append(micro_r)\n",
        "\n",
        "    print(f\"{t:.2f}      | {macro_f1:.4f}   | {micro_f1:.4f}   | {macro_p:.4f}   | {micro_p:.4f}   | {macro_r:.4f}   | {micro_r:.4f}\")\n",
        "\n",
        "# Plotting the results\n",
        "plt.figure(figsize=(12, 6))\n",
        "plt.plot(thresholds, macro_f1_scores, label='Macro F1', marker='o')\n",
        "plt.plot(thresholds, micro_f1_scores, label='Micro F1', marker='o')\n",
        "plt.xlabel('Threshold')\n",
        "plt.ylabel('F1 Score')\n",
        "plt.title('F1 Score vs. Classification Threshold')\n",
        "plt.legend()\n",
        "plt.grid(True)\n",
        "plt.show()\n",
        "\n",
        "# Find the threshold that maximizes Macro F1\n",
        "optimal_macro_f1_idx = np.argmax(macro_f1_scores)\n",
        "optimal_threshold_macro_f1 = thresholds[optimal_macro_f1_idx]\n",
        "print(f\"\\nOptimal Threshold for Macro F1: {optimal_threshold_macro_f1:.2f}\")\n",
        "print(f\"Max Macro F1 at this threshold: {macro_f1_scores[optimal_macro_f1_idx]:.4f}\")\n",
        "print(f\"Corresponding Micro F1: {micro_f1_scores[optimal_macro_f1_idx]:.4f}\")\n",
        "print(\"-----------------------------------------\")"
      ],
      "metadata": {
        "colab": {
          "base_uri": "https://localhost:8080/",
          "height": 864
        },
        "id": "G9Dq7GDHkfJu",
        "outputId": "3d42db0c-9db5-4253-dca7-dff54b6b5990"
      },
      "execution_count": 71,
      "outputs": [
        {
          "output_type": "stream",
          "name": "stdout",
          "text": [
            "\n",
            "--- Obtaining Validation Predictions for Threshold Analysis ---\n"
          ]
        },
        {
          "output_type": "display_data",
          "data": {
            "text/plain": [
              "<IPython.core.display.HTML object>"
            ],
            "text/html": []
          },
          "metadata": {}
        },
        {
          "output_type": "stream",
          "name": "stdout",
          "text": [
            "Validation predictions obtained for threshold analysis.\n",
            "Threshold | Macro F1 | Micro F1 | Macro P  | Micro P  | Macro R  | Micro R\n",
            "----------------------------------------------------------------------\n",
            "0.05      | 0.0742   | 0.0785   | 0.0408   | 0.0409   | 1.0000   | 1.0000\n",
            "0.10      | 0.0846   | 0.0986   | 0.0465   | 0.0519   | 0.9780   | 0.9955\n",
            "0.15      | 0.1755   | 0.2046   | 0.1038   | 0.1151   | 0.8752   | 0.9218\n",
            "0.20      | 0.3276   | 0.3546   | 0.2313   | 0.2361   | 0.7069   | 0.7117\n",
            "0.25      | 0.4159   | 0.4107   | 0.3871   | 0.3844   | 0.5151   | 0.4409\n",
            "0.30      | 0.3879   | 0.3815   | 0.5252   | 0.5714   | 0.3590   | 0.2863\n",
            "0.35      | 0.3166   | 0.3112   | 0.5678   | 0.7264   | 0.2556   | 0.1980\n",
            "0.40      | 0.2422   | 0.2476   | 0.5842   | 0.8300   | 0.1819   | 0.1455\n",
            "0.45      | 0.1421   | 0.1683   | 0.4385   | 0.9000   | 0.1023   | 0.0928\n",
            "0.50      | 0.0604   | 0.0924   | 0.2319   | 0.9678   | 0.0419   | 0.0485\n",
            "0.55      | 0.0246   | 0.0588   | 0.0357   | 1.0000   | 0.0188   | 0.0303\n",
            "0.60      | 0.0077   | 0.0138   | 0.0357   | 1.0000   | 0.0043   | 0.0069\n",
            "0.65      | 0.0000   | 0.0000   | 0.0000   | 0.0000   | 0.0000   | 0.0000\n",
            "0.70      | 0.0000   | 0.0000   | 0.0000   | 0.0000   | 0.0000   | 0.0000\n",
            "0.75      | 0.0000   | 0.0000   | 0.0000   | 0.0000   | 0.0000   | 0.0000\n",
            "0.80      | 0.0000   | 0.0000   | 0.0000   | 0.0000   | 0.0000   | 0.0000\n",
            "0.85      | 0.0000   | 0.0000   | 0.0000   | 0.0000   | 0.0000   | 0.0000\n",
            "0.90      | 0.0000   | 0.0000   | 0.0000   | 0.0000   | 0.0000   | 0.0000\n",
            "0.95      | 0.0000   | 0.0000   | 0.0000   | 0.0000   | 0.0000   | 0.0000\n"
          ]
        },
        {
          "output_type": "display_data",
          "data": {
            "text/plain": [
              "<Figure size 1200x600 with 1 Axes>"
            ],
            "image/png": "[encoded data removed]"
          },
          "metadata": {}
        },
        {
          "output_type": "stream",
          "name": "stdout",
          "text": [
            "\n",
            "Optimal Threshold for Macro F1: 0.25\n",
            "Max Macro F1 at this threshold: 0.4159\n",
            "Corresponding Micro F1: 0.4107\n",
            "-----------------------------------------\n"
          ]
        }
      ]
    },
    {
      "cell_type": "code",
      "source": [
        "# ---Final Evaluation on Test Set---\n",
        "print(\"\\n--- Evaluating Model on Test Set ---\")\n",
        "final_test_results = trainer.evaluate(tokenized_test_dataset)\n",
        "print(f\"Final Test Set Evaluation Results: {final_test_results}\")\n",
        "\n",
        "# --- Add these lines to save the best model to Google Drive ---\n",
        "# Make sure Google Drive is mounted at /content/drive\n",
        "# from google.colab import drive\n",
        "# drive.mount('/content/drive')\n",
        "\n",
        "#model_save_path = \"/content/drive/MyDrive/ML_Emotion_Classifier/emo_tag/\" # Consider a new path for this model\n",
        "#os.makedirs(model_save_path, exist_ok=True)\n",
        "#trainer.save_model(model_save_path) # This saves the model and tokenizer\n",
        "#print(f\"Best model saved to {model_save_path} directory in your Google Drive.\")\n",
        "# --- Final Evaluation on Test Set ---\n",
        "print(f\"Final Test Set Evaluation Results: {final_test_results}\")\n",
        "print(\"--------------------------------------------------------------------------------\")\n",
        "\n",
        "#---Detailed classification report on Test Set---\n",
        "print(\"\\n--- Generating detailed classification report on Test Set ---\")\n",
        "predictions_output = trainer.predict(tokenized_test_dataset)\n",
        "logits = predictions_output.predictions\n",
        "true_labels = predictions_output.label_ids\n",
        "optimal_threshold = 0.10 #\n",
        "probabilities = 1 / (1 + np.exp(-logits))\n",
        "predicted_labels = (probabilities >= optimal_threshold).astype(int)\n",
        "\n",
        "report = classification_report(true_labels, predicted_labels,\n",
        "                               target_names=GOEMOTIONS_LABELS,\n",
        "                               zero_division='warn')\n",
        "print(report)\n",
        "print(\"\\n--- Model Training and Evaluation Flow Complete ---\")\n",
        "print(\"---------------------------------------------------------------\")"
      ],
      "metadata": {
        "colab": {
          "base_uri": "https://localhost:8080/",
          "height": 836
        },
        "id": "FXngVE90Ci32",
        "outputId": "aef4029f-a678-42cb-ea9c-ef6f320f7570"
      },
      "execution_count": 72,
      "outputs": [
        {
          "output_type": "stream",
          "name": "stdout",
          "text": [
            "\n",
            "--- Evaluating Model on Test Set ---\n"
          ]
        },
        {
          "output_type": "display_data",
          "data": {
            "text/plain": [
              "<IPython.core.display.HTML object>"
            ],
            "text/html": []
          },
          "metadata": {}
        },
        {
          "output_type": "stream",
          "name": "stdout",
          "text": [
            "Final Test Set Evaluation Results: {'eval_loss': 0.009873032569885254, 'eval_f1_macro': 0.06430337507029486, 'eval_precision_macro': 0.23926971326164873, 'eval_recall_macro': 0.04525019567435991, 'eval_f1_micro': 0.08718585169097115, 'eval_precision_micro': 0.9429530201342282, 'eval_recall_micro': 0.04570592062459336, 'eval_runtime': 20.5469, 'eval_samples_per_second': 264.127, 'eval_steps_per_second': 8.274, 'epoch': 1.0}\n",
            "Final Test Set Evaluation Results: {'eval_loss': 0.009873032569885254, 'eval_f1_macro': 0.06430337507029486, 'eval_precision_macro': 0.23926971326164873, 'eval_recall_macro': 0.04525019567435991, 'eval_f1_micro': 0.08718585169097115, 'eval_precision_micro': 0.9429530201342282, 'eval_recall_micro': 0.04570592062459336, 'eval_runtime': 20.5469, 'eval_samples_per_second': 264.127, 'eval_steps_per_second': 8.274, 'epoch': 1.0}\n",
            "--------------------------------------------------------------------------------\n",
            "\n",
            "--- Generating detailed classification report on Test Set ---\n",
            "                precision    recall  f1-score   support\n",
            "\n",
            "    admiration       0.09      1.00      0.17       504\n",
            "     amusement       0.06      1.00      0.10       264\n",
            "         anger       0.04      1.00      0.07       198\n",
            "     annoyance       0.06      1.00      0.11       320\n",
            "      approval       0.07      1.00      0.12       351\n",
            "        caring       0.03      1.00      0.06       135\n",
            "     confusion       0.03      1.00      0.06       153\n",
            "     curiosity       0.05      1.00      0.10       284\n",
            "        desire       0.02      0.95      0.04        83\n",
            "disappointment       0.03      1.00      0.06       151\n",
            "   disapproval       0.05      1.00      0.10       267\n",
            "       disgust       0.03      0.99      0.06       123\n",
            " embarrassment       0.01      0.97      0.02        37\n",
            "    excitement       0.03      1.00      0.05       103\n",
            "          fear       0.02      0.99      0.04        78\n",
            "     gratitude       0.11      0.99      0.20       352\n",
            "         grief       0.00      1.00      0.01         6\n",
            "           joy       0.04      1.00      0.07       161\n",
            "          love       0.06      1.00      0.11       238\n",
            "   nervousness       0.01      0.96      0.02        23\n",
            "      optimism       0.04      0.98      0.07       186\n",
            "         pride       0.01      0.62      0.01        16\n",
            "   realization       0.03      1.00      0.05       145\n",
            "        relief       0.00      1.00      0.01        11\n",
            "       remorse       0.02      0.98      0.05        56\n",
            "       sadness       0.03      0.99      0.06       156\n",
            "      surprise       0.03      0.99      0.07       141\n",
            "       neutral       0.30      1.00      0.46      1606\n",
            "\n",
            "     micro avg       0.05      0.99      0.10      6148\n",
            "     macro avg       0.05      0.98      0.08      6148\n",
            "  weighted avg       0.12      0.99      0.19      6148\n",
            "   samples avg       0.05      1.00      0.10      6148\n",
            "\n",
            "\n",
            "--- Model Training and Evaluation Flow Complete ---\n",
            "---------------------------------------------------------------\n"
          ]
        }
      ]
    },
    {
      "cell_type": "code",
      "metadata": {
        "id": "4c5649d1"
      },
      "source": [
        "# --- Define the prediction function here ---\n",
        "def predict_emotions(text, model, tokenizer, labels, threshold=0.5):\n",
        "    inputs = tokenizer(text, return_tensors=\"pt\", truncation=True, padding=\"max_length\", max_length=256)\n",
        "    inputs = {name: tensor.to(model.device) for name, tensor in inputs.items()}\n",
        "\n",
        "    with torch.no_grad():\n",
        "        outputs = model(**inputs)\n",
        "        logits = outputs.logits\n",
        "\n",
        "    probabilities = torch.sigmoid(logits).squeeze().cpu().numpy()\n",
        "    prob_dict = dict(zip(labels, probabilities))\n",
        "    predicted_labels = [label for label, prob in prob_dict.items() if prob >= threshold]\n",
        "\n",
        "    return predicted_labels, prob_dict"
      ],
      "execution_count": 73,
      "outputs": []
    },
    {
      "cell_type": "code",
      "source": [
        "# --- Test Questions Post-Training ---\n",
        "print(\"\\n--- Testing Model with Custom Inputs ---\")\n",
        "\n",
        "trained_model = model\n",
        "trained_tokenizer = tokenizer\n",
        "\n",
        "GOEMOTIONS_LABELS = [\n",
        "    'admiration', 'amusement', 'anger', 'annoyance', 'approval', 'caring', 'confusion',\n",
        "    'curiosity', 'desire', 'disappointment', 'disapproval', 'disgust', 'embarrassment',\n",
        "    'excitement', 'fear', 'gratitude', 'grief', 'joy', 'love', 'nervousness', 'optimism',\n",
        "    'pride', 'realization', 'relief', 'remorse', 'sadness', 'surprise', 'neutral'\n",
        "]\n",
        "\n",
        "trained_model.config.id2label = {i: label for i, label in enumerate(GOEMOTIONS_LABELS)}\n",
        "trained_model.config.label2id = {label: i for i, label in enumerate(GOEMOTIONS_LABELS)}\n",
        "\n",
        "if trained_model and trained_tokenizer:\n",
        "    model_labels = list(trained_model.config.id2label.values())\n",
        "\n",
        "    # Scenario 1: A complex emotional text\n",
        "    text1 = \"I am so incredibly happy with this result, it truly fills me with joy and a sense of pride!\"\n",
        "    predicted_labels1, probs1 = predict_emotions(text1, trained_model, trained_tokenizer, model_labels, threshold=optimal_threshold_macro_f1)\n",
        "    print(\"\\n--- Test Scenario 1 ---\")\n",
        "    print(f\"Text: '{text1}'\")\n",
        "    print(f\"Predicted Emotions: {predicted_labels1}\")\n",
        "    sorted_probs1 = sorted(probs1.items(), key=lambda item: item[1], reverse=True)\n",
        "    print(f\"Top Probabilities: {sorted_probs1[:5]}\") # Print top 5 probabilities\n",
        "\n",
        "    # Scenario 2: A seemingly neutral text that might have subtle underlying emotion or be truly neutral\n",
        "    text2 = \"The sky is blue today. It's a typical Tuesday afternoon.\"\n",
        "    predicted_labels2, probs2 = predict_emotions(text2, trained_model, trained_tokenizer, model_labels, threshold=optimal_threshold_macro_f1)\n",
        "    print(\"\\n--- Test Scenario 2 ---\")\n",
        "    print(f\"Text: '{text2}'\")\n",
        "    print(f\"Predicted Emotions: {predicted_labels2}\")\n",
        "    sorted_probs2 = sorted(probs2.items(), key=lambda item: item[1], reverse=True)\n",
        "    print(f\"Top Probabilities: {sorted_probs2[:5]}\")\n",
        "\n",
        "   # Scenario 3: A text with a negative or mixed emotion\n",
        "    text3 = \"I'm quite annoyed by the constant noise, but also a bit sad it has come to this.\"\n",
        "    predicted_labels3, probs3 = predict_emotions(text3, trained_model, trained_tokenizer, model_labels, threshold=optimal_threshold_macro_f1)\n",
        "    print(\"\\n--- Test Scenario 3 ---\")\n",
        "    print(f\"Text: '{text3}'\")\n",
        "    print(f\"Predicted Emotions: {predicted_labels3}\")\n",
        "    sorted_probs3 = sorted(probs3.items(), key=lambda item: item[1], reverse=True)\n",
        "    print(f\"Top Probabilities: {sorted_probs3[:5]}\")\n",
        "\n",
        "else:\n",
        "    print(\"\\nSkipping prediction examples as model/tokenizer are not yet ready.\")\n",
        "\n",
        "print(\"\\n--- Model Training, Evaluation, and Custom Prediction Flow Complete ---\")\n",
        "print(\"---------------------------------------------------------------\")"
      ],
      "metadata": {
        "id": "JSabvIZhCho_",
        "colab": {
          "base_uri": "https://localhost:8080/"
        },
        "outputId": "678900b8-f957-4035-e220-29bf579eb5cb"
      },
      "execution_count": 74,
      "outputs": [
        {
          "output_type": "stream",
          "name": "stdout",
          "text": [
            "\n",
            "--- Testing Model with Custom Inputs ---\n",
            "\n",
            "--- Test Scenario 1 ---\n",
            "Text: 'I am so incredibly happy with this result, it truly fills me with joy and a sense of pride!'\n",
            "Predicted Emotions: ['pride']\n",
            "Top Probabilities: [('pride', np.float32(0.38618454)), ('excitement', np.float32(0.21190567)), ('joy', np.float32(0.19406214)), ('amusement', np.float32(0.18877223)), ('admiration', np.float32(0.1821344))]\n",
            "\n",
            "--- Test Scenario 2 ---\n",
            "Text: 'The sky is blue today. It's a typical Tuesday afternoon.'\n",
            "Predicted Emotions: ['admiration']\n",
            "Top Probabilities: [('admiration', np.float32(0.27542195)), ('joy', np.float32(0.24798745)), ('approval', np.float32(0.20866229)), ('excitement', np.float32(0.18952109)), ('neutral', np.float32(0.1799625))]\n",
            "\n",
            "--- Test Scenario 3 ---\n",
            "Text: 'I'm quite annoyed by the constant noise, but also a bit sad it has come to this.'\n",
            "Predicted Emotions: ['sadness']\n",
            "Top Probabilities: [('sadness', np.float32(0.3824874)), ('disappointment', np.float32(0.20721471)), ('grief', np.float32(0.19682619)), ('remorse', np.float32(0.18010667)), ('disapproval', np.float32(0.17300859))]\n",
            "\n",
            "--- Model Training, Evaluation, and Custom Prediction Flow Complete ---\n",
            "---------------------------------------------------------------\n"
          ]
        }
      ]
    }
  ]
}